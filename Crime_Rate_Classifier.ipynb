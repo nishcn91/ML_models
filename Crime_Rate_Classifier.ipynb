{
 "cells": [
  {
   "cell_type": "markdown",
   "metadata": {
    "colab_type": "text",
    "id": "UW0KJzriS_Rw"
   },
   "source": [
    "# Metropolitan Crime Rate Predictor\n",
    "\n",
    "This is a simple approach to study the given metropolitan data and predict the crime rate for using **DecisionTreeRegressor** and **LinearRegression**. Later evaluate the metrics of both methods and see which suits our applicaiton better\n",
    "\n",
    "### References\n",
    "\n",
    "1. https://learn.dphi.tech/\n",
    "    Being a part of this bootcamp guided me to this wonderful transition\n",
    "   \n",
    "### Purpose\n",
    "The purpose of this notebook is to establish a good practice of different methods available in pandas, matplotlib, seaborn and oter such libraries. So there might be some over redundant plots or tabulations which are just to establish the learnings. "
   ]
  },
  {
   "cell_type": "markdown",
   "metadata": {
    "colab_type": "text",
    "id": "h8YoEx9uS_Rx"
   },
   "source": [
    "### Load libraries needed"
   ]
  },
  {
   "cell_type": "code",
   "execution_count": 35,
   "metadata": {
    "colab": {},
    "colab_type": "code",
    "id": "Xt1XL1jxS_Ry"
   },
   "outputs": [],
   "source": [
    "import pandas as pd\n",
    "import numpy as np\n",
    "import matplotlib.pyplot as plt\n",
    "import seaborn as sns"
   ]
  },
  {
   "cell_type": "markdown",
   "metadata": {
    "colab_type": "text",
    "id": "7BomN29JS_R1"
   },
   "source": [
    "### Load and Study data"
   ]
  },
  {
   "cell_type": "code",
   "execution_count": 36,
   "metadata": {
    "colab": {
     "base_uri": "https://localhost:8080/",
     "height": 206
    },
    "colab_type": "code",
    "executionInfo": {
     "elapsed": 1950,
     "status": "ok",
     "timestamp": 1592315402964,
     "user": {
      "displayName": "nishanth nagaraj",
      "photoUrl": "",
      "userId": "10770169860028008538"
     },
     "user_tz": -480
    },
    "id": "3JnvTYSiS_R2",
    "outputId": "5df9cbed-b9a2-4c9d-d46f-84b1ea5c4e4e"
   },
   "outputs": [
    {
     "data": {
      "text/html": [
       "<div>\n",
       "<style scoped>\n",
       "    .dataframe tbody tr th:only-of-type {\n",
       "        vertical-align: middle;\n",
       "    }\n",
       "\n",
       "    .dataframe tbody tr th {\n",
       "        vertical-align: top;\n",
       "    }\n",
       "\n",
       "    .dataframe thead th {\n",
       "        text-align: right;\n",
       "    }\n",
       "</style>\n",
       "<table border=\"1\" class=\"dataframe\">\n",
       "  <thead>\n",
       "    <tr style=\"text-align: right;\">\n",
       "      <th></th>\n",
       "      <th>land_area</th>\n",
       "      <th>percent_city</th>\n",
       "      <th>percent_senior</th>\n",
       "      <th>physicians</th>\n",
       "      <th>hospital_beds</th>\n",
       "      <th>graduates</th>\n",
       "      <th>work_force</th>\n",
       "      <th>income</th>\n",
       "      <th>region</th>\n",
       "      <th>crime_rate</th>\n",
       "    </tr>\n",
       "  </thead>\n",
       "  <tbody>\n",
       "    <tr>\n",
       "      <th>93</th>\n",
       "      <td>4552</td>\n",
       "      <td>54.4</td>\n",
       "      <td>9.1</td>\n",
       "      <td>329</td>\n",
       "      <td>719</td>\n",
       "      <td>61.9</td>\n",
       "      <td>118.0</td>\n",
       "      <td>1386</td>\n",
       "      <td>4</td>\n",
       "      <td>62.63</td>\n",
       "    </tr>\n",
       "    <tr>\n",
       "      <th>39</th>\n",
       "      <td>1490</td>\n",
       "      <td>33.1</td>\n",
       "      <td>11.9</td>\n",
       "      <td>827</td>\n",
       "      <td>3818</td>\n",
       "      <td>47.4</td>\n",
       "      <td>300.2</td>\n",
       "      <td>4144</td>\n",
       "      <td>1</td>\n",
       "      <td>30.59</td>\n",
       "    </tr>\n",
       "    <tr>\n",
       "      <th>87</th>\n",
       "      <td>7397</td>\n",
       "      <td>47.3</td>\n",
       "      <td>12.5</td>\n",
       "      <td>355</td>\n",
       "      <td>2042</td>\n",
       "      <td>56.2</td>\n",
       "      <td>113.7</td>\n",
       "      <td>1654</td>\n",
       "      <td>2</td>\n",
       "      <td>45.97</td>\n",
       "    </tr>\n",
       "    <tr>\n",
       "      <th>77</th>\n",
       "      <td>1526</td>\n",
       "      <td>71.7</td>\n",
       "      <td>7.7</td>\n",
       "      <td>413</td>\n",
       "      <td>1636</td>\n",
       "      <td>47.1</td>\n",
       "      <td>125.8</td>\n",
       "      <td>1692</td>\n",
       "      <td>3</td>\n",
       "      <td>66.13</td>\n",
       "    </tr>\n",
       "    <tr>\n",
       "      <th>11</th>\n",
       "      <td>1519</td>\n",
       "      <td>31.8</td>\n",
       "      <td>10.5</td>\n",
       "      <td>4094</td>\n",
       "      <td>12545</td>\n",
       "      <td>54.6</td>\n",
       "      <td>906.0</td>\n",
       "      <td>14684</td>\n",
       "      <td>2</td>\n",
       "      <td>52.73</td>\n",
       "    </tr>\n",
       "  </tbody>\n",
       "</table>\n",
       "</div>"
      ],
      "text/plain": [
       "    land_area  percent_city  percent_senior  physicians  hospital_beds  \\\n",
       "93       4552          54.4             9.1         329            719   \n",
       "39       1490          33.1            11.9         827           3818   \n",
       "87       7397          47.3            12.5         355           2042   \n",
       "77       1526          71.7             7.7         413           1636   \n",
       "11       1519          31.8            10.5        4094          12545   \n",
       "\n",
       "    graduates  work_force  income  region  crime_rate  \n",
       "93       61.9       118.0    1386       4       62.63  \n",
       "39       47.4       300.2    4144       1       30.59  \n",
       "87       56.2       113.7    1654       2       45.97  \n",
       "77       47.1       125.8    1692       3       66.13  \n",
       "11       54.6       906.0   14684       2       52.73  "
      ]
     },
     "execution_count": 36,
     "metadata": {},
     "output_type": "execute_result"
    }
   ],
   "source": [
    "# metroData = pd.read_csv('Standard Metropolitan Areas Data - train_data - data.csv')\n",
    "metroData = pd.read_csv('https://raw.githubusercontent.com/dphi-official/Datasets/master/Standard_Metropolitan_Areas_Data-data.csv')\n",
    "#displays 'n' random rows from our dataset\n",
    "metroData.sample(5)"
   ]
  },
  {
   "cell_type": "code",
   "execution_count": 37,
   "metadata": {
    "colab": {
     "base_uri": "https://localhost:8080/",
     "height": 312
    },
    "colab_type": "code",
    "executionInfo": {
     "elapsed": 1947,
     "status": "ok",
     "timestamp": 1592315402966,
     "user": {
      "displayName": "nishanth nagaraj",
      "photoUrl": "",
      "userId": "10770169860028008538"
     },
     "user_tz": -480
    },
    "id": "YyqlP9yWS_R5",
    "outputId": "96e6ce0c-7080-4146-85b5-c9be9015ce50"
   },
   "outputs": [
    {
     "name": "stdout",
     "output_type": "stream",
     "text": [
      "<class 'pandas.core.frame.DataFrame'>\n",
      "RangeIndex: 99 entries, 0 to 98\n",
      "Data columns (total 10 columns):\n",
      "land_area         99 non-null int64\n",
      "percent_city      99 non-null float64\n",
      "percent_senior    99 non-null float64\n",
      "physicians        99 non-null int64\n",
      "hospital_beds     99 non-null int64\n",
      "graduates         99 non-null float64\n",
      "work_force        99 non-null float64\n",
      "income            99 non-null int64\n",
      "region            99 non-null int64\n",
      "crime_rate        99 non-null float64\n",
      "dtypes: float64(5), int64(5)\n",
      "memory usage: 7.8 KB\n"
     ]
    }
   ],
   "source": [
    "#copy source dataframe into another working dataframe\n",
    "data = metroData.copy()\n",
    "#gather some informaation about our data\n",
    "data.info()"
   ]
  },
  {
   "cell_type": "markdown",
   "metadata": {
    "colab_type": "text",
    "id": "d0artOG8S_R8"
   },
   "source": [
    "Looks like there is no missing values. Also by taking a glance at the sample data, we can say that all the features are continuous. But for the region even though its a continuous number we could later convert them using one hot encoding before we feed into our model"
   ]
  },
  {
   "cell_type": "markdown",
   "metadata": {
    "colab_type": "text",
    "id": "O9gZv9ysS_R9"
   },
   "source": [
    "Let us see some statistical insights of our data"
   ]
  },
  {
   "cell_type": "code",
   "execution_count": 38,
   "metadata": {
    "colab": {
     "base_uri": "https://localhost:8080/",
     "height": 300
    },
    "colab_type": "code",
    "executionInfo": {
     "elapsed": 1943,
     "status": "ok",
     "timestamp": 1592315402968,
     "user": {
      "displayName": "nishanth nagaraj",
      "photoUrl": "",
      "userId": "10770169860028008538"
     },
     "user_tz": -480
    },
    "id": "9WuubYhzS_R-",
    "outputId": "c553aba3-733a-4b0e-ddff-8d9c83b26081"
   },
   "outputs": [
    {
     "data": {
      "text/html": [
       "<div>\n",
       "<style scoped>\n",
       "    .dataframe tbody tr th:only-of-type {\n",
       "        vertical-align: middle;\n",
       "    }\n",
       "\n",
       "    .dataframe tbody tr th {\n",
       "        vertical-align: top;\n",
       "    }\n",
       "\n",
       "    .dataframe thead th {\n",
       "        text-align: right;\n",
       "    }\n",
       "</style>\n",
       "<table border=\"1\" class=\"dataframe\">\n",
       "  <thead>\n",
       "    <tr style=\"text-align: right;\">\n",
       "      <th></th>\n",
       "      <th>land_area</th>\n",
       "      <th>percent_city</th>\n",
       "      <th>percent_senior</th>\n",
       "      <th>physicians</th>\n",
       "      <th>hospital_beds</th>\n",
       "      <th>graduates</th>\n",
       "      <th>work_force</th>\n",
       "      <th>income</th>\n",
       "      <th>region</th>\n",
       "      <th>crime_rate</th>\n",
       "    </tr>\n",
       "  </thead>\n",
       "  <tbody>\n",
       "    <tr>\n",
       "      <th>count</th>\n",
       "      <td>99.000000</td>\n",
       "      <td>99.000000</td>\n",
       "      <td>99.000000</td>\n",
       "      <td>99.000000</td>\n",
       "      <td>99.000000</td>\n",
       "      <td>99.000000</td>\n",
       "      <td>99.000000</td>\n",
       "      <td>99.000000</td>\n",
       "      <td>99.000000</td>\n",
       "      <td>99.000000</td>\n",
       "    </tr>\n",
       "    <tr>\n",
       "      <th>mean</th>\n",
       "      <td>2615.727273</td>\n",
       "      <td>42.518182</td>\n",
       "      <td>9.781818</td>\n",
       "      <td>1828.333333</td>\n",
       "      <td>6345.868687</td>\n",
       "      <td>54.463636</td>\n",
       "      <td>449.366667</td>\n",
       "      <td>6762.505051</td>\n",
       "      <td>2.494949</td>\n",
       "      <td>55.643030</td>\n",
       "    </tr>\n",
       "    <tr>\n",
       "      <th>std</th>\n",
       "      <td>3045.826210</td>\n",
       "      <td>17.348277</td>\n",
       "      <td>2.524547</td>\n",
       "      <td>3192.199763</td>\n",
       "      <td>9136.202716</td>\n",
       "      <td>7.773286</td>\n",
       "      <td>610.990885</td>\n",
       "      <td>10393.349660</td>\n",
       "      <td>1.013921</td>\n",
       "      <td>13.470943</td>\n",
       "    </tr>\n",
       "    <tr>\n",
       "      <th>min</th>\n",
       "      <td>47.000000</td>\n",
       "      <td>13.400000</td>\n",
       "      <td>3.900000</td>\n",
       "      <td>140.000000</td>\n",
       "      <td>481.000000</td>\n",
       "      <td>30.300000</td>\n",
       "      <td>66.900000</td>\n",
       "      <td>769.000000</td>\n",
       "      <td>1.000000</td>\n",
       "      <td>23.320000</td>\n",
       "    </tr>\n",
       "    <tr>\n",
       "      <th>25%</th>\n",
       "      <td>1408.000000</td>\n",
       "      <td>30.100000</td>\n",
       "      <td>8.350000</td>\n",
       "      <td>459.000000</td>\n",
       "      <td>2390.000000</td>\n",
       "      <td>50.250000</td>\n",
       "      <td>150.300000</td>\n",
       "      <td>2003.000000</td>\n",
       "      <td>2.000000</td>\n",
       "      <td>46.115000</td>\n",
       "    </tr>\n",
       "    <tr>\n",
       "      <th>50%</th>\n",
       "      <td>1951.000000</td>\n",
       "      <td>39.500000</td>\n",
       "      <td>9.700000</td>\n",
       "      <td>774.000000</td>\n",
       "      <td>3472.000000</td>\n",
       "      <td>54.000000</td>\n",
       "      <td>257.200000</td>\n",
       "      <td>3510.000000</td>\n",
       "      <td>3.000000</td>\n",
       "      <td>56.060000</td>\n",
       "    </tr>\n",
       "    <tr>\n",
       "      <th>75%</th>\n",
       "      <td>2890.500000</td>\n",
       "      <td>52.600000</td>\n",
       "      <td>10.750000</td>\n",
       "      <td>1911.500000</td>\n",
       "      <td>6386.500000</td>\n",
       "      <td>58.300000</td>\n",
       "      <td>436.500000</td>\n",
       "      <td>6283.500000</td>\n",
       "      <td>3.000000</td>\n",
       "      <td>63.860000</td>\n",
       "    </tr>\n",
       "    <tr>\n",
       "      <th>max</th>\n",
       "      <td>27293.000000</td>\n",
       "      <td>100.000000</td>\n",
       "      <td>21.800000</td>\n",
       "      <td>25627.000000</td>\n",
       "      <td>69678.000000</td>\n",
       "      <td>72.800000</td>\n",
       "      <td>4083.900000</td>\n",
       "      <td>72100.000000</td>\n",
       "      <td>4.000000</td>\n",
       "      <td>85.620000</td>\n",
       "    </tr>\n",
       "  </tbody>\n",
       "</table>\n",
       "</div>"
      ],
      "text/plain": [
       "          land_area  percent_city  percent_senior    physicians  \\\n",
       "count     99.000000     99.000000       99.000000     99.000000   \n",
       "mean    2615.727273     42.518182        9.781818   1828.333333   \n",
       "std     3045.826210     17.348277        2.524547   3192.199763   \n",
       "min       47.000000     13.400000        3.900000    140.000000   \n",
       "25%     1408.000000     30.100000        8.350000    459.000000   \n",
       "50%     1951.000000     39.500000        9.700000    774.000000   \n",
       "75%     2890.500000     52.600000       10.750000   1911.500000   \n",
       "max    27293.000000    100.000000       21.800000  25627.000000   \n",
       "\n",
       "       hospital_beds  graduates   work_force        income     region  \\\n",
       "count      99.000000  99.000000    99.000000     99.000000  99.000000   \n",
       "mean     6345.868687  54.463636   449.366667   6762.505051   2.494949   \n",
       "std      9136.202716   7.773286   610.990885  10393.349660   1.013921   \n",
       "min       481.000000  30.300000    66.900000    769.000000   1.000000   \n",
       "25%      2390.000000  50.250000   150.300000   2003.000000   2.000000   \n",
       "50%      3472.000000  54.000000   257.200000   3510.000000   3.000000   \n",
       "75%      6386.500000  58.300000   436.500000   6283.500000   3.000000   \n",
       "max     69678.000000  72.800000  4083.900000  72100.000000   4.000000   \n",
       "\n",
       "       crime_rate  \n",
       "count   99.000000  \n",
       "mean    55.643030  \n",
       "std     13.470943  \n",
       "min     23.320000  \n",
       "25%     46.115000  \n",
       "50%     56.060000  \n",
       "75%     63.860000  \n",
       "max     85.620000  "
      ]
     },
     "execution_count": 38,
     "metadata": {},
     "output_type": "execute_result"
    }
   ],
   "source": [
    "data.describe()"
   ]
  },
  {
   "cell_type": "markdown",
   "metadata": {
    "colab_type": "text",
    "id": "6_bghGTlS_SC"
   },
   "source": [
    "We notice there are some outliers with huge gap as in the case with **land_area, physicians, hospital_beds, workforce and income**.\n",
    "Lets see how they are currently correlated"
   ]
  },
  {
   "cell_type": "markdown",
   "metadata": {},
   "source": [
    "### Exploratory Data Analysis"
   ]
  },
  {
   "cell_type": "code",
   "execution_count": 39,
   "metadata": {
    "colab": {},
    "colab_type": "code",
    "id": "l_Gs4XnwS_SD"
   },
   "outputs": [],
   "source": [
    "sns.set_context('poster')\n",
    "sns.set(font_scale=1)\n",
    "# sns.pairplot(data,kind='reg',diag_kind='kde')"
   ]
  },
  {
   "cell_type": "code",
   "execution_count": 40,
   "metadata": {
    "colab": {
     "base_uri": "https://localhost:8080/",
     "height": 509
    },
    "colab_type": "code",
    "executionInfo": {
     "elapsed": 3140,
     "status": "ok",
     "timestamp": 1592315404173,
     "user": {
      "displayName": "nishanth nagaraj",
      "photoUrl": "",
      "userId": "10770169860028008538"
     },
     "user_tz": -480
    },
    "id": "iihpYchDS_SG",
    "outputId": "9fd17acc-19ec-401a-ff34-9c9498843494"
   },
   "outputs": [
    {
     "data": {
      "text/plain": [
       "Text(0.5, 0.98, 'Heatmap - NonLinear')"
      ]
     },
     "execution_count": 40,
     "metadata": {},
     "output_type": "execute_result"
    },
    {
     "data": {
      "image/png": "[encoded data removed]",
      "text/plain": [
       "<Figure size 720x432 with 2 Axes>"
      ]
     },
     "metadata": {},
     "output_type": "display_data"
    }
   ],
   "source": [
    "#here correlation method 'spearman' gives a non linear realtion\n",
    "fig, ax = plt.subplots(figsize=(10,6))\n",
    "sns.heatmap(data.corr(method='spearman'),annot=True,vmax=1,vmin=-1)\n",
    "plt.suptitle('Heatmap - NonLinear')"
   ]
  },
  {
   "cell_type": "code",
   "execution_count": 41,
   "metadata": {
    "colab": {
     "base_uri": "https://localhost:8080/",
     "height": 509
    },
    "colab_type": "code",
    "executionInfo": {
     "elapsed": 4239,
     "status": "ok",
     "timestamp": 1592315405277,
     "user": {
      "displayName": "nishanth nagaraj",
      "photoUrl": "",
      "userId": "10770169860028008538"
     },
     "user_tz": -480
    },
    "id": "M_u8pbhAS_SJ",
    "outputId": "aa3d16e4-c279-4519-d3a3-a2c49fd8fe6c"
   },
   "outputs": [
    {
     "data": {
      "text/plain": [
       "Text(0.5, 0.98, 'Heatmap - Linear')"
      ]
     },
     "execution_count": 41,
     "metadata": {},
     "output_type": "execute_result"
    },
    {
     "data": {
      "image/png": "[encoded data removed]",
      "text/plain": [
       "<Figure size 720x432 with 2 Axes>"
      ]
     },
     "metadata": {},
     "output_type": "display_data"
    }
   ],
   "source": [
    "#here correlation method 'pearson',which is the default, gives a non linear realtion\n",
    "fig, ax = plt.subplots(figsize=(10,6))\n",
    "sns.heatmap(data.corr(method='pearson'),annot=True,vmax=1,vmin=-1)\n",
    "plt.suptitle('Heatmap - Linear')"
   ]
  },
  {
   "cell_type": "markdown",
   "metadata": {
    "colab_type": "text",
    "id": "MBShebM0S_SM"
   },
   "source": [
    "In both cases we notice there is **positive correlation** with **region, graduates** and **negative correlation** with *percent_senior** (more clearly shown in the spearman method of correlation)\n",
    "\n",
    "The reason why crime rate is correlated with graduates is intriguing\n"
   ]
  },
  {
   "cell_type": "code",
   "execution_count": 42,
   "metadata": {
    "colab": {
     "base_uri": "https://localhost:8080/",
     "height": 331
    },
    "colab_type": "code",
    "executionInfo": {
     "elapsed": 4235,
     "status": "ok",
     "timestamp": 1592315405278,
     "user": {
      "displayName": "nishanth nagaraj",
      "photoUrl": "",
      "userId": "10770169860028008538"
     },
     "user_tz": -480
    },
    "id": "6fVSb5wbS_SM",
    "outputId": "c905bbfe-3492-4520-93cc-66f1770c25c2"
   },
   "outputs": [
    {
     "data": {
      "text/plain": [
       "Text(0.5, 0.98, 'Graduates distribution')"
      ]
     },
     "execution_count": 42,
     "metadata": {},
     "output_type": "execute_result"
    },
    {
     "data": {
      "image/png": "[encoded data removed]",
      "text/plain": [
       "<Figure size 432x288 with 1 Axes>"
      ]
     },
     "metadata": {},
     "output_type": "display_data"
    }
   ],
   "source": [
    "data.graduates.hist()\n",
    "plt.xlabel('% graduates')\n",
    "plt.suptitle('Graduates distribution')"
   ]
  },
  {
   "cell_type": "markdown",
   "metadata": {
    "colab_type": "text",
    "id": "vRtLm93uS_SP"
   },
   "source": [
    "We can see that majority of graduates percent is between **50%-60%**. We could bin this continuous data to get a better understanding of the correlation with crime_rate"
   ]
  },
  {
   "cell_type": "code",
   "execution_count": 43,
   "metadata": {
    "colab": {},
    "colab_type": "code",
    "id": "WssCgE9KS_SQ"
   },
   "outputs": [
    {
     "data": {
      "text/html": [
       "<div>\n",
       "<style scoped>\n",
       "    .dataframe tbody tr th:only-of-type {\n",
       "        vertical-align: middle;\n",
       "    }\n",
       "\n",
       "    .dataframe tbody tr th {\n",
       "        vertical-align: top;\n",
       "    }\n",
       "\n",
       "    .dataframe thead th {\n",
       "        text-align: right;\n",
       "    }\n",
       "</style>\n",
       "<table border=\"1\" class=\"dataframe\">\n",
       "  <thead>\n",
       "    <tr style=\"text-align: right;\">\n",
       "      <th></th>\n",
       "      <th>land_area</th>\n",
       "      <th>percent_city</th>\n",
       "      <th>percent_senior</th>\n",
       "      <th>physicians</th>\n",
       "      <th>hospital_beds</th>\n",
       "      <th>graduates</th>\n",
       "      <th>work_force</th>\n",
       "      <th>income</th>\n",
       "      <th>region</th>\n",
       "      <th>crime_rate</th>\n",
       "      <th>graduates_band</th>\n",
       "      <th>crime_rate_band</th>\n",
       "    </tr>\n",
       "  </thead>\n",
       "  <tbody>\n",
       "    <tr>\n",
       "      <th>0</th>\n",
       "      <td>1384</td>\n",
       "      <td>78.1</td>\n",
       "      <td>12.3</td>\n",
       "      <td>25627</td>\n",
       "      <td>69678</td>\n",
       "      <td>50.1</td>\n",
       "      <td>4083.9</td>\n",
       "      <td>72100</td>\n",
       "      <td>1</td>\n",
       "      <td>75.55</td>\n",
       "      <td>4</td>\n",
       "      <td>5</td>\n",
       "    </tr>\n",
       "    <tr>\n",
       "      <th>1</th>\n",
       "      <td>3719</td>\n",
       "      <td>43.9</td>\n",
       "      <td>9.4</td>\n",
       "      <td>13326</td>\n",
       "      <td>43292</td>\n",
       "      <td>53.9</td>\n",
       "      <td>3305.9</td>\n",
       "      <td>54542</td>\n",
       "      <td>2</td>\n",
       "      <td>56.03</td>\n",
       "      <td>4</td>\n",
       "      <td>3</td>\n",
       "    </tr>\n",
       "    <tr>\n",
       "      <th>2</th>\n",
       "      <td>3553</td>\n",
       "      <td>37.4</td>\n",
       "      <td>10.7</td>\n",
       "      <td>9724</td>\n",
       "      <td>33731</td>\n",
       "      <td>50.6</td>\n",
       "      <td>2066.3</td>\n",
       "      <td>33216</td>\n",
       "      <td>1</td>\n",
       "      <td>41.32</td>\n",
       "      <td>4</td>\n",
       "      <td>2</td>\n",
       "    </tr>\n",
       "    <tr>\n",
       "      <th>3</th>\n",
       "      <td>3916</td>\n",
       "      <td>29.9</td>\n",
       "      <td>8.8</td>\n",
       "      <td>6402</td>\n",
       "      <td>24167</td>\n",
       "      <td>52.2</td>\n",
       "      <td>1966.7</td>\n",
       "      <td>32906</td>\n",
       "      <td>2</td>\n",
       "      <td>67.38</td>\n",
       "      <td>4</td>\n",
       "      <td>4</td>\n",
       "    </tr>\n",
       "    <tr>\n",
       "      <th>4</th>\n",
       "      <td>2480</td>\n",
       "      <td>31.5</td>\n",
       "      <td>10.5</td>\n",
       "      <td>8502</td>\n",
       "      <td>16751</td>\n",
       "      <td>66.1</td>\n",
       "      <td>1514.5</td>\n",
       "      <td>26573</td>\n",
       "      <td>4</td>\n",
       "      <td>80.19</td>\n",
       "      <td>7</td>\n",
       "      <td>6</td>\n",
       "    </tr>\n",
       "  </tbody>\n",
       "</table>\n",
       "</div>"
      ],
      "text/plain": [
       "   land_area  percent_city  percent_senior  physicians  hospital_beds  \\\n",
       "0       1384          78.1            12.3       25627          69678   \n",
       "1       3719          43.9             9.4       13326          43292   \n",
       "2       3553          37.4            10.7        9724          33731   \n",
       "3       3916          29.9             8.8        6402          24167   \n",
       "4       2480          31.5            10.5        8502          16751   \n",
       "\n",
       "   graduates  work_force  income  region  crime_rate  graduates_band  \\\n",
       "0       50.1      4083.9   72100       1       75.55               4   \n",
       "1       53.9      3305.9   54542       2       56.03               4   \n",
       "2       50.6      2066.3   33216       1       41.32               4   \n",
       "3       52.2      1966.7   32906       2       67.38               4   \n",
       "4       66.1      1514.5   26573       4       80.19               7   \n",
       "\n",
       "   crime_rate_band  \n",
       "0                5  \n",
       "1                3  \n",
       "2                2  \n",
       "3                4  \n",
       "4                6  "
      ]
     },
     "execution_count": 43,
     "metadata": {},
     "output_type": "execute_result"
    }
   ],
   "source": [
    "def binConverter(featureList,n):\n",
    "    for k in featureList:\n",
    "        diff = data[k].max()-data[k].min()\n",
    "        cRange=diff/float(n)\n",
    "        l = data[k].min()\n",
    "        llim = l\n",
    "        ulim = llim+cRange\n",
    "        newName=k+'_band'\n",
    "        data[newName]=0\n",
    "        for i in range(10):\n",
    "            data.loc[((data[k]>=llim)&(data[k]<ulim)),newName]=i\n",
    "            llim=ulim\n",
    "            ulim+=cRange\n",
    "\n",
    "binConverter(['graduates'],9)\n",
    "\n",
    "#We could bin crime_rate, which is a continuous data to get a better understanding of the spread over with regio\n",
    "binConverter(['crime_rate'],7) \n",
    "\n",
    "data.head()"
   ]
  },
  {
   "cell_type": "code",
   "execution_count": 44,
   "metadata": {
    "colab": {
     "base_uri": "https://localhost:8080/",
     "height": 169
    },
    "colab_type": "code",
    "executionInfo": {
     "elapsed": 5118,
     "status": "ok",
     "timestamp": 1592315406170,
     "user": {
      "displayName": "nishanth nagaraj",
      "photoUrl": "",
      "userId": "10770169860028008538"
     },
     "user_tz": -480
    },
    "id": "P0XrBuG4S_SV",
    "outputId": "4f44b2b4-1871-4686-dc1d-138a8f37f5fa"
   },
   "outputs": [
    {
     "data": {
      "text/html": [
       "<style  type=\"text/css\" >\n",
       "    #T_7c1b5e26_b08a_11ea_909c_000b8193c70brow0_col0 {\n",
       "            background-color:  #008066;\n",
       "        }    #T_7c1b5e26_b08a_11ea_909c_000b8193c70brow0_col1 {\n",
       "            background-color:  #5faf66;\n",
       "        }    #T_7c1b5e26_b08a_11ea_909c_000b8193c70brow0_col2 {\n",
       "            background-color:  #bcde66;\n",
       "        }    #T_7c1b5e26_b08a_11ea_909c_000b8193c70brow0_col3 {\n",
       "            background-color:  #f4fa66;\n",
       "        }    #T_7c1b5e26_b08a_11ea_909c_000b8193c70brow0_col4 {\n",
       "            background-color:  #ffff66;\n",
       "        }    #T_7c1b5e26_b08a_11ea_909c_000b8193c70brow0_col5 {\n",
       "            background-color:  #ffff66;\n",
       "        }    #T_7c1b5e26_b08a_11ea_909c_000b8193c70brow0_col6 {\n",
       "            background-color:  #ffff66;\n",
       "        }    #T_7c1b5e26_b08a_11ea_909c_000b8193c70brow0_col7 {\n",
       "            background-color:  #ffff66;\n",
       "        }    #T_7c1b5e26_b08a_11ea_909c_000b8193c70brow0_col8 {\n",
       "            background-color:  #f3f966;\n",
       "        }    #T_7c1b5e26_b08a_11ea_909c_000b8193c70brow1_col0 {\n",
       "            background-color:  #ffff66;\n",
       "        }    #T_7c1b5e26_b08a_11ea_909c_000b8193c70brow1_col1 {\n",
       "            background-color:  #dfef66;\n",
       "        }    #T_7c1b5e26_b08a_11ea_909c_000b8193c70brow1_col2 {\n",
       "            background-color:  #94ca66;\n",
       "        }    #T_7c1b5e26_b08a_11ea_909c_000b8193c70brow1_col3 {\n",
       "            background-color:  #bdde66;\n",
       "        }    #T_7c1b5e26_b08a_11ea_909c_000b8193c70brow1_col4 {\n",
       "            background-color:  #bdde66;\n",
       "        }    #T_7c1b5e26_b08a_11ea_909c_000b8193c70brow1_col5 {\n",
       "            background-color:  #ffff66;\n",
       "        }    #T_7c1b5e26_b08a_11ea_909c_000b8193c70brow1_col6 {\n",
       "            background-color:  #ffff66;\n",
       "        }    #T_7c1b5e26_b08a_11ea_909c_000b8193c70brow1_col7 {\n",
       "            background-color:  #ffff66;\n",
       "        }    #T_7c1b5e26_b08a_11ea_909c_000b8193c70brow1_col8 {\n",
       "            background-color:  #e7f366;\n",
       "        }    #T_7c1b5e26_b08a_11ea_909c_000b8193c70brow2_col0 {\n",
       "            background-color:  #ffff66;\n",
       "        }    #T_7c1b5e26_b08a_11ea_909c_000b8193c70brow2_col1 {\n",
       "            background-color:  #bfdf66;\n",
       "        }    #T_7c1b5e26_b08a_11ea_909c_000b8193c70brow2_col2 {\n",
       "            background-color:  #afd766;\n",
       "        }    #T_7c1b5e26_b08a_11ea_909c_000b8193c70brow2_col3 {\n",
       "            background-color:  #b2d866;\n",
       "        }    #T_7c1b5e26_b08a_11ea_909c_000b8193c70brow2_col4 {\n",
       "            background-color:  #85c266;\n",
       "        }    #T_7c1b5e26_b08a_11ea_909c_000b8193c70brow2_col5 {\n",
       "            background-color:  #66b266;\n",
       "        }    #T_7c1b5e26_b08a_11ea_909c_000b8193c70brow2_col6 {\n",
       "            background-color:  #ffff66;\n",
       "        }    #T_7c1b5e26_b08a_11ea_909c_000b8193c70brow2_col7 {\n",
       "            background-color:  #ffff66;\n",
       "        }    #T_7c1b5e26_b08a_11ea_909c_000b8193c70brow2_col8 {\n",
       "            background-color:  #c4e266;\n",
       "        }    #T_7c1b5e26_b08a_11ea_909c_000b8193c70brow3_col0 {\n",
       "            background-color:  #ffff66;\n",
       "        }    #T_7c1b5e26_b08a_11ea_909c_000b8193c70brow3_col1 {\n",
       "            background-color:  #ffff66;\n",
       "        }    #T_7c1b5e26_b08a_11ea_909c_000b8193c70brow3_col2 {\n",
       "            background-color:  #ffff66;\n",
       "        }    #T_7c1b5e26_b08a_11ea_909c_000b8193c70brow3_col3 {\n",
       "            background-color:  #ffff66;\n",
       "        }    #T_7c1b5e26_b08a_11ea_909c_000b8193c70brow3_col4 {\n",
       "            background-color:  #bdde66;\n",
       "        }    #T_7c1b5e26_b08a_11ea_909c_000b8193c70brow3_col5 {\n",
       "            background-color:  #e6f266;\n",
       "        }    #T_7c1b5e26_b08a_11ea_909c_000b8193c70brow3_col6 {\n",
       "            background-color:  #008066;\n",
       "        }    #T_7c1b5e26_b08a_11ea_909c_000b8193c70brow3_col7 {\n",
       "            background-color:  #008066;\n",
       "        }    #T_7c1b5e26_b08a_11ea_909c_000b8193c70brow3_col8 {\n",
       "            background-color:  #ffff66;\n",
       "        }    #T_7c1b5e26_b08a_11ea_909c_000b8193c70brow4_col0 {\n",
       "            background-color:  #008066;\n",
       "        }    #T_7c1b5e26_b08a_11ea_909c_000b8193c70brow4_col1 {\n",
       "            background-color:  #008066;\n",
       "        }    #T_7c1b5e26_b08a_11ea_909c_000b8193c70brow4_col2 {\n",
       "            background-color:  #008066;\n",
       "        }    #T_7c1b5e26_b08a_11ea_909c_000b8193c70brow4_col3 {\n",
       "            background-color:  #008066;\n",
       "        }    #T_7c1b5e26_b08a_11ea_909c_000b8193c70brow4_col4 {\n",
       "            background-color:  #008066;\n",
       "        }    #T_7c1b5e26_b08a_11ea_909c_000b8193c70brow4_col5 {\n",
       "            background-color:  #008066;\n",
       "        }    #T_7c1b5e26_b08a_11ea_909c_000b8193c70brow4_col6 {\n",
       "            background-color:  #008066;\n",
       "        }    #T_7c1b5e26_b08a_11ea_909c_000b8193c70brow4_col7 {\n",
       "            background-color:  #008066;\n",
       "        }    #T_7c1b5e26_b08a_11ea_909c_000b8193c70brow4_col8 {\n",
       "            background-color:  #008066;\n",
       "        }</style>  \n",
       "<table id=\"T_7c1b5e26_b08a_11ea_909c_000b8193c70b\" > \n",
       "<thead>    <tr> \n",
       "        <th class=\"index_name level0\" >crime_rate_band</th> \n",
       "        <th class=\"col_heading level0 col0\" >0</th> \n",
       "        <th class=\"col_heading level0 col1\" >1</th> \n",
       "        <th class=\"col_heading level0 col2\" >2</th> \n",
       "        <th class=\"col_heading level0 col3\" >3</th> \n",
       "        <th class=\"col_heading level0 col4\" >4</th> \n",
       "        <th class=\"col_heading level0 col5\" >5</th> \n",
       "        <th class=\"col_heading level0 col6\" >6</th> \n",
       "        <th class=\"col_heading level0 col7\" >7</th> \n",
       "        <th class=\"col_heading level0 col8\" >All</th> \n",
       "    </tr>    <tr> \n",
       "        <th class=\"index_name level0\" >region</th> \n",
       "        <th class=\"blank\" ></th> \n",
       "        <th class=\"blank\" ></th> \n",
       "        <th class=\"blank\" ></th> \n",
       "        <th class=\"blank\" ></th> \n",
       "        <th class=\"blank\" ></th> \n",
       "        <th class=\"blank\" ></th> \n",
       "        <th class=\"blank\" ></th> \n",
       "        <th class=\"blank\" ></th> \n",
       "        <th class=\"blank\" ></th> \n",
       "    </tr></thead> \n",
       "<tbody>    <tr> \n",
       "        <th id=\"T_7c1b5e26_b08a_11ea_909c_000b8193c70blevel0_row0\" class=\"row_heading level0 row0\" >1</th> \n",
       "        <td id=\"T_7c1b5e26_b08a_11ea_909c_000b8193c70brow0_col0\" class=\"data row0 col0\" >6</td> \n",
       "        <td id=\"T_7c1b5e26_b08a_11ea_909c_000b8193c70brow0_col1\" class=\"data row0 col1\" >5</td> \n",
       "        <td id=\"T_7c1b5e26_b08a_11ea_909c_000b8193c70brow0_col2\" class=\"data row0 col2\" >5</td> \n",
       "        <td id=\"T_7c1b5e26_b08a_11ea_909c_000b8193c70brow0_col3\" class=\"data row0 col3\" >4</td> \n",
       "        <td id=\"T_7c1b5e26_b08a_11ea_909c_000b8193c70brow0_col4\" class=\"data row0 col4\" >0</td> \n",
       "        <td id=\"T_7c1b5e26_b08a_11ea_909c_000b8193c70brow0_col5\" class=\"data row0 col5\" >1</td> \n",
       "        <td id=\"T_7c1b5e26_b08a_11ea_909c_000b8193c70brow0_col6\" class=\"data row0 col6\" >0</td> \n",
       "        <td id=\"T_7c1b5e26_b08a_11ea_909c_000b8193c70brow0_col7\" class=\"data row0 col7\" >0</td> \n",
       "        <td id=\"T_7c1b5e26_b08a_11ea_909c_000b8193c70brow0_col8\" class=\"data row0 col8\" >21</td> \n",
       "    </tr>    <tr> \n",
       "        <th id=\"T_7c1b5e26_b08a_11ea_909c_000b8193c70blevel0_row1\" class=\"row_heading level0 row1\" >2</th> \n",
       "        <td id=\"T_7c1b5e26_b08a_11ea_909c_000b8193c70brow1_col0\" class=\"data row1 col0\" >0</td> \n",
       "        <td id=\"T_7c1b5e26_b08a_11ea_909c_000b8193c70brow1_col1\" class=\"data row1 col1\" >1</td> \n",
       "        <td id=\"T_7c1b5e26_b08a_11ea_909c_000b8193c70brow1_col2\" class=\"data row1 col2\" >8</td> \n",
       "        <td id=\"T_7c1b5e26_b08a_11ea_909c_000b8193c70brow1_col3\" class=\"data row1 col3\" >9</td> \n",
       "        <td id=\"T_7c1b5e26_b08a_11ea_909c_000b8193c70brow1_col4\" class=\"data row1 col4\" >6</td> \n",
       "        <td id=\"T_7c1b5e26_b08a_11ea_909c_000b8193c70brow1_col5\" class=\"data row1 col5\" >1</td> \n",
       "        <td id=\"T_7c1b5e26_b08a_11ea_909c_000b8193c70brow1_col6\" class=\"data row1 col6\" >0</td> \n",
       "        <td id=\"T_7c1b5e26_b08a_11ea_909c_000b8193c70brow1_col7\" class=\"data row1 col7\" >0</td> \n",
       "        <td id=\"T_7c1b5e26_b08a_11ea_909c_000b8193c70brow1_col8\" class=\"data row1 col8\" >25</td> \n",
       "    </tr>    <tr> \n",
       "        <th id=\"T_7c1b5e26_b08a_11ea_909c_000b8193c70blevel0_row2\" class=\"row_heading level0 row2\" >3</th> \n",
       "        <td id=\"T_7c1b5e26_b08a_11ea_909c_000b8193c70brow2_col0\" class=\"data row2 col0\" >0</td> \n",
       "        <td id=\"T_7c1b5e26_b08a_11ea_909c_000b8193c70brow2_col1\" class=\"data row2 col1\" >2</td> \n",
       "        <td id=\"T_7c1b5e26_b08a_11ea_909c_000b8193c70brow2_col2\" class=\"data row2 col2\" >6</td> \n",
       "        <td id=\"T_7c1b5e26_b08a_11ea_909c_000b8193c70brow2_col3\" class=\"data row2 col3\" >10</td> \n",
       "        <td id=\"T_7c1b5e26_b08a_11ea_909c_000b8193c70brow2_col4\" class=\"data row2 col4\" >11</td> \n",
       "        <td id=\"T_7c1b5e26_b08a_11ea_909c_000b8193c70brow2_col5\" class=\"data row2 col5\" >7</td> \n",
       "        <td id=\"T_7c1b5e26_b08a_11ea_909c_000b8193c70brow2_col6\" class=\"data row2 col6\" >0</td> \n",
       "        <td id=\"T_7c1b5e26_b08a_11ea_909c_000b8193c70brow2_col7\" class=\"data row2 col7\" >0</td> \n",
       "        <td id=\"T_7c1b5e26_b08a_11ea_909c_000b8193c70brow2_col8\" class=\"data row2 col8\" >36</td> \n",
       "    </tr>    <tr> \n",
       "        <th id=\"T_7c1b5e26_b08a_11ea_909c_000b8193c70blevel0_row3\" class=\"row_heading level0 row3\" >4</th> \n",
       "        <td id=\"T_7c1b5e26_b08a_11ea_909c_000b8193c70brow3_col0\" class=\"data row3 col0\" >0</td> \n",
       "        <td id=\"T_7c1b5e26_b08a_11ea_909c_000b8193c70brow3_col1\" class=\"data row3 col1\" >0</td> \n",
       "        <td id=\"T_7c1b5e26_b08a_11ea_909c_000b8193c70brow3_col2\" class=\"data row3 col2\" >0</td> \n",
       "        <td id=\"T_7c1b5e26_b08a_11ea_909c_000b8193c70brow3_col3\" class=\"data row3 col3\" >3</td> \n",
       "        <td id=\"T_7c1b5e26_b08a_11ea_909c_000b8193c70brow3_col4\" class=\"data row3 col4\" >6</td> \n",
       "        <td id=\"T_7c1b5e26_b08a_11ea_909c_000b8193c70brow3_col5\" class=\"data row3 col5\" >2</td> \n",
       "        <td id=\"T_7c1b5e26_b08a_11ea_909c_000b8193c70brow3_col6\" class=\"data row3 col6\" >5</td> \n",
       "        <td id=\"T_7c1b5e26_b08a_11ea_909c_000b8193c70brow3_col7\" class=\"data row3 col7\" >1</td> \n",
       "        <td id=\"T_7c1b5e26_b08a_11ea_909c_000b8193c70brow3_col8\" class=\"data row3 col8\" >17</td> \n",
       "    </tr>    <tr> \n",
       "        <th id=\"T_7c1b5e26_b08a_11ea_909c_000b8193c70blevel0_row4\" class=\"row_heading level0 row4\" >All</th> \n",
       "        <td id=\"T_7c1b5e26_b08a_11ea_909c_000b8193c70brow4_col0\" class=\"data row4 col0\" >6</td> \n",
       "        <td id=\"T_7c1b5e26_b08a_11ea_909c_000b8193c70brow4_col1\" class=\"data row4 col1\" >8</td> \n",
       "        <td id=\"T_7c1b5e26_b08a_11ea_909c_000b8193c70brow4_col2\" class=\"data row4 col2\" >19</td> \n",
       "        <td id=\"T_7c1b5e26_b08a_11ea_909c_000b8193c70brow4_col3\" class=\"data row4 col3\" >26</td> \n",
       "        <td id=\"T_7c1b5e26_b08a_11ea_909c_000b8193c70brow4_col4\" class=\"data row4 col4\" >23</td> \n",
       "        <td id=\"T_7c1b5e26_b08a_11ea_909c_000b8193c70brow4_col5\" class=\"data row4 col5\" >11</td> \n",
       "        <td id=\"T_7c1b5e26_b08a_11ea_909c_000b8193c70brow4_col6\" class=\"data row4 col6\" >5</td> \n",
       "        <td id=\"T_7c1b5e26_b08a_11ea_909c_000b8193c70brow4_col7\" class=\"data row4 col7\" >1</td> \n",
       "        <td id=\"T_7c1b5e26_b08a_11ea_909c_000b8193c70brow4_col8\" class=\"data row4 col8\" >99</td> \n",
       "    </tr></tbody> \n",
       "</table> "
      ],
      "text/plain": [
       "<pandas.io.formats.style.Styler at 0x29819157e10>"
      ]
     },
     "execution_count": 44,
     "metadata": {},
     "output_type": "execute_result"
    }
   ],
   "source": [
    "#Let us check how the crimerate is spread over regions\n",
    "pd.crosstab([data.region],[data.crime_rate_band],margins=True).style.background_gradient(cmap='summer_r')"
   ]
  },
  {
   "cell_type": "markdown",
   "metadata": {
    "colab_type": "text",
    "id": "vQwHctYCS_SY"
   },
   "source": [
    "**Region 4 has less number of crimes but their crime rates are in the higher limits. Region 3 though having almost twice as many crimes still manages to have a lesser overall crime rate. This gets interesting and lets see how the graduates are distribute across regions.** "
   ]
  },
  {
   "cell_type": "code",
   "execution_count": 45,
   "metadata": {
    "colab": {
     "base_uri": "https://localhost:8080/",
     "height": 169
    },
    "colab_type": "code",
    "executionInfo": {
     "elapsed": 5114,
     "status": "ok",
     "timestamp": 1592315406172,
     "user": {
      "displayName": "nishanth nagaraj",
      "photoUrl": "",
      "userId": "10770169860028008538"
     },
     "user_tz": -480
    },
    "id": "qZeovizSS_SY",
    "outputId": "5e9fc645-9676-4a8d-cbff-b4947e90e228"
   },
   "outputs": [
    {
     "data": {
      "text/html": [
       "<style  type=\"text/css\" >\n",
       "    #T_7c3092a8_b08a_11ea_8b95_000b8193c70brow0_col0 {\n",
       "            background-color:  #ffff66;\n",
       "        }    #T_7c3092a8_b08a_11ea_8b95_000b8193c70brow0_col1 {\n",
       "            background-color:  #7fbf66;\n",
       "        }    #T_7c3092a8_b08a_11ea_8b95_000b8193c70brow0_col2 {\n",
       "            background-color:  #3f9f66;\n",
       "        }    #T_7c3092a8_b08a_11ea_8b95_000b8193c70brow0_col3 {\n",
       "            background-color:  #d8ec66;\n",
       "        }    #T_7c3092a8_b08a_11ea_8b95_000b8193c70brow0_col4 {\n",
       "            background-color:  #f5fa66;\n",
       "        }    #T_7c3092a8_b08a_11ea_8b95_000b8193c70brow0_col5 {\n",
       "            background-color:  #b1d866;\n",
       "        }    #T_7c3092a8_b08a_11ea_8b95_000b8193c70brow0_col6 {\n",
       "            background-color:  #ffff66;\n",
       "        }    #T_7c3092a8_b08a_11ea_8b95_000b8193c70brow0_col7 {\n",
       "            background-color:  #ffff66;\n",
       "        }    #T_7c3092a8_b08a_11ea_8b95_000b8193c70brow0_col8 {\n",
       "            background-color:  #ffff66;\n",
       "        }    #T_7c3092a8_b08a_11ea_8b95_000b8193c70brow0_col9 {\n",
       "            background-color:  #f3f966;\n",
       "        }    #T_7c3092a8_b08a_11ea_8b95_000b8193c70brow1_col0 {\n",
       "            background-color:  #ffff66;\n",
       "        }    #T_7c3092a8_b08a_11ea_8b95_000b8193c70brow1_col1 {\n",
       "            background-color:  #ffff66;\n",
       "        }    #T_7c3092a8_b08a_11ea_8b95_000b8193c70brow1_col2 {\n",
       "            background-color:  #ffff66;\n",
       "        }    #T_7c3092a8_b08a_11ea_8b95_000b8193c70brow1_col3 {\n",
       "            background-color:  #d8ec66;\n",
       "        }    #T_7c3092a8_b08a_11ea_8b95_000b8193c70brow1_col4 {\n",
       "            background-color:  #eaf466;\n",
       "        }    #T_7c3092a8_b08a_11ea_8b95_000b8193c70brow1_col5 {\n",
       "            background-color:  #b1d866;\n",
       "        }    #T_7c3092a8_b08a_11ea_8b95_000b8193c70brow1_col6 {\n",
       "            background-color:  #8ec666;\n",
       "        }    #T_7c3092a8_b08a_11ea_8b95_000b8193c70brow1_col7 {\n",
       "            background-color:  #bfdf66;\n",
       "        }    #T_7c3092a8_b08a_11ea_8b95_000b8193c70brow1_col8 {\n",
       "            background-color:  #d5ea66;\n",
       "        }    #T_7c3092a8_b08a_11ea_8b95_000b8193c70brow1_col9 {\n",
       "            background-color:  #e7f366;\n",
       "        }    #T_7c3092a8_b08a_11ea_8b95_000b8193c70brow2_col0 {\n",
       "            background-color:  #008066;\n",
       "        }    #T_7c3092a8_b08a_11ea_8b95_000b8193c70brow2_col1 {\n",
       "            background-color:  #7fbf66;\n",
       "        }    #T_7c3092a8_b08a_11ea_8b95_000b8193c70brow2_col2 {\n",
       "            background-color:  #bfdf66;\n",
       "        }    #T_7c3092a8_b08a_11ea_8b95_000b8193c70brow2_col3 {\n",
       "            background-color:  #4ea666;\n",
       "        }    #T_7c3092a8_b08a_11ea_8b95_000b8193c70brow2_col4 {\n",
       "            background-color:  #9fcf66;\n",
       "        }    #T_7c3092a8_b08a_11ea_8b95_000b8193c70brow2_col5 {\n",
       "            background-color:  #bbdd66;\n",
       "        }    #T_7c3092a8_b08a_11ea_8b95_000b8193c70brow2_col6 {\n",
       "            background-color:  #ffff66;\n",
       "        }    #T_7c3092a8_b08a_11ea_8b95_000b8193c70brow2_col7 {\n",
       "            background-color:  #ffff66;\n",
       "        }    #T_7c3092a8_b08a_11ea_8b95_000b8193c70brow2_col8 {\n",
       "            background-color:  #aad466;\n",
       "        }    #T_7c3092a8_b08a_11ea_8b95_000b8193c70brow2_col9 {\n",
       "            background-color:  #c4e266;\n",
       "        }    #T_7c3092a8_b08a_11ea_8b95_000b8193c70brow3_col0 {\n",
       "            background-color:  #ffff66;\n",
       "        }    #T_7c3092a8_b08a_11ea_8b95_000b8193c70brow3_col1 {\n",
       "            background-color:  #ffff66;\n",
       "        }    #T_7c3092a8_b08a_11ea_8b95_000b8193c70brow3_col2 {\n",
       "            background-color:  #ffff66;\n",
       "        }    #T_7c3092a8_b08a_11ea_8b95_000b8193c70brow3_col3 {\n",
       "            background-color:  #ffff66;\n",
       "        }    #T_7c3092a8_b08a_11ea_8b95_000b8193c70brow3_col4 {\n",
       "            background-color:  #ffff66;\n",
       "        }    #T_7c3092a8_b08a_11ea_8b95_000b8193c70brow3_col5 {\n",
       "            background-color:  #ffff66;\n",
       "        }    #T_7c3092a8_b08a_11ea_8b95_000b8193c70brow3_col6 {\n",
       "            background-color:  #c7e366;\n",
       "        }    #T_7c3092a8_b08a_11ea_8b95_000b8193c70brow3_col7 {\n",
       "            background-color:  #3f9f66;\n",
       "        }    #T_7c3092a8_b08a_11ea_8b95_000b8193c70brow3_col8 {\n",
       "            background-color:  #7fbf66;\n",
       "        }    #T_7c3092a8_b08a_11ea_8b95_000b8193c70brow3_col9 {\n",
       "            background-color:  #ffff66;\n",
       "        }    #T_7c3092a8_b08a_11ea_8b95_000b8193c70brow4_col0 {\n",
       "            background-color:  #008066;\n",
       "        }    #T_7c3092a8_b08a_11ea_8b95_000b8193c70brow4_col1 {\n",
       "            background-color:  #008066;\n",
       "        }    #T_7c3092a8_b08a_11ea_8b95_000b8193c70brow4_col2 {\n",
       "            background-color:  #008066;\n",
       "        }    #T_7c3092a8_b08a_11ea_8b95_000b8193c70brow4_col3 {\n",
       "            background-color:  #008066;\n",
       "        }    #T_7c3092a8_b08a_11ea_8b95_000b8193c70brow4_col4 {\n",
       "            background-color:  #008066;\n",
       "        }    #T_7c3092a8_b08a_11ea_8b95_000b8193c70brow4_col5 {\n",
       "            background-color:  #008066;\n",
       "        }    #T_7c3092a8_b08a_11ea_8b95_000b8193c70brow4_col6 {\n",
       "            background-color:  #008066;\n",
       "        }    #T_7c3092a8_b08a_11ea_8b95_000b8193c70brow4_col7 {\n",
       "            background-color:  #008066;\n",
       "        }    #T_7c3092a8_b08a_11ea_8b95_000b8193c70brow4_col8 {\n",
       "            background-color:  #008066;\n",
       "        }    #T_7c3092a8_b08a_11ea_8b95_000b8193c70brow4_col9 {\n",
       "            background-color:  #008066;\n",
       "        }</style>  \n",
       "<table id=\"T_7c3092a8_b08a_11ea_8b95_000b8193c70b\" > \n",
       "<thead>    <tr> \n",
       "        <th class=\"index_name level0\" >graduates_band</th> \n",
       "        <th class=\"col_heading level0 col0\" >0</th> \n",
       "        <th class=\"col_heading level0 col1\" >1</th> \n",
       "        <th class=\"col_heading level0 col2\" >2</th> \n",
       "        <th class=\"col_heading level0 col3\" >3</th> \n",
       "        <th class=\"col_heading level0 col4\" >4</th> \n",
       "        <th class=\"col_heading level0 col5\" >5</th> \n",
       "        <th class=\"col_heading level0 col6\" >6</th> \n",
       "        <th class=\"col_heading level0 col7\" >7</th> \n",
       "        <th class=\"col_heading level0 col8\" >8</th> \n",
       "        <th class=\"col_heading level0 col9\" >All</th> \n",
       "    </tr>    <tr> \n",
       "        <th class=\"index_name level0\" >region</th> \n",
       "        <th class=\"blank\" ></th> \n",
       "        <th class=\"blank\" ></th> \n",
       "        <th class=\"blank\" ></th> \n",
       "        <th class=\"blank\" ></th> \n",
       "        <th class=\"blank\" ></th> \n",
       "        <th class=\"blank\" ></th> \n",
       "        <th class=\"blank\" ></th> \n",
       "        <th class=\"blank\" ></th> \n",
       "        <th class=\"blank\" ></th> \n",
       "        <th class=\"blank\" ></th> \n",
       "    </tr></thead> \n",
       "<tbody>    <tr> \n",
       "        <th id=\"T_7c3092a8_b08a_11ea_8b95_000b8193c70blevel0_row0\" class=\"row_heading level0 row0\" >1</th> \n",
       "        <td id=\"T_7c3092a8_b08a_11ea_8b95_000b8193c70brow0_col0\" class=\"data row0 col0\" >0</td> \n",
       "        <td id=\"T_7c3092a8_b08a_11ea_8b95_000b8193c70brow0_col1\" class=\"data row0 col1\" >1</td> \n",
       "        <td id=\"T_7c3092a8_b08a_11ea_8b95_000b8193c70brow0_col2\" class=\"data row0 col2\" >3</td> \n",
       "        <td id=\"T_7c3092a8_b08a_11ea_8b95_000b8193c70brow0_col3\" class=\"data row0 col3\" >2</td> \n",
       "        <td id=\"T_7c3092a8_b08a_11ea_8b95_000b8193c70brow0_col4\" class=\"data row0 col4\" >5</td> \n",
       "        <td id=\"T_7c3092a8_b08a_11ea_8b95_000b8193c70brow0_col5\" class=\"data row0 col5\" >9</td> \n",
       "        <td id=\"T_7c3092a8_b08a_11ea_8b95_000b8193c70brow0_col6\" class=\"data row0 col6\" >1</td> \n",
       "        <td id=\"T_7c3092a8_b08a_11ea_8b95_000b8193c70brow0_col7\" class=\"data row0 col7\" >0</td> \n",
       "        <td id=\"T_7c3092a8_b08a_11ea_8b95_000b8193c70brow0_col8\" class=\"data row0 col8\" >0</td> \n",
       "        <td id=\"T_7c3092a8_b08a_11ea_8b95_000b8193c70brow0_col9\" class=\"data row0 col9\" >21</td> \n",
       "    </tr>    <tr> \n",
       "        <th id=\"T_7c3092a8_b08a_11ea_8b95_000b8193c70blevel0_row1\" class=\"row_heading level0 row1\" >2</th> \n",
       "        <td id=\"T_7c3092a8_b08a_11ea_8b95_000b8193c70brow1_col0\" class=\"data row1 col0\" >0</td> \n",
       "        <td id=\"T_7c3092a8_b08a_11ea_8b95_000b8193c70brow1_col1\" class=\"data row1 col1\" >0</td> \n",
       "        <td id=\"T_7c3092a8_b08a_11ea_8b95_000b8193c70brow1_col2\" class=\"data row1 col2\" >0</td> \n",
       "        <td id=\"T_7c3092a8_b08a_11ea_8b95_000b8193c70brow1_col3\" class=\"data row1 col3\" >2</td> \n",
       "        <td id=\"T_7c3092a8_b08a_11ea_8b95_000b8193c70brow1_col4\" class=\"data row1 col4\" >6</td> \n",
       "        <td id=\"T_7c3092a8_b08a_11ea_8b95_000b8193c70brow1_col5\" class=\"data row1 col5\" >9</td> \n",
       "        <td id=\"T_7c3092a8_b08a_11ea_8b95_000b8193c70brow1_col6\" class=\"data row1 col6\" >5</td> \n",
       "        <td id=\"T_7c3092a8_b08a_11ea_8b95_000b8193c70brow1_col7\" class=\"data row1 col7\" >2</td> \n",
       "        <td id=\"T_7c3092a8_b08a_11ea_8b95_000b8193c70brow1_col8\" class=\"data row1 col8\" >1</td> \n",
       "        <td id=\"T_7c3092a8_b08a_11ea_8b95_000b8193c70brow1_col9\" class=\"data row1 col9\" >25</td> \n",
       "    </tr>    <tr> \n",
       "        <th id=\"T_7c3092a8_b08a_11ea_8b95_000b8193c70blevel0_row2\" class=\"row_heading level0 row2\" >3</th> \n",
       "        <td id=\"T_7c3092a8_b08a_11ea_8b95_000b8193c70brow2_col0\" class=\"data row2 col0\" >1</td> \n",
       "        <td id=\"T_7c3092a8_b08a_11ea_8b95_000b8193c70brow2_col1\" class=\"data row2 col1\" >1</td> \n",
       "        <td id=\"T_7c3092a8_b08a_11ea_8b95_000b8193c70brow2_col2\" class=\"data row2 col2\" >1</td> \n",
       "        <td id=\"T_7c3092a8_b08a_11ea_8b95_000b8193c70brow2_col3\" class=\"data row2 col3\" >9</td> \n",
       "        <td id=\"T_7c3092a8_b08a_11ea_8b95_000b8193c70brow2_col4\" class=\"data row2 col4\" >13</td> \n",
       "        <td id=\"T_7c3092a8_b08a_11ea_8b95_000b8193c70brow2_col5\" class=\"data row2 col5\" >8</td> \n",
       "        <td id=\"T_7c3092a8_b08a_11ea_8b95_000b8193c70brow2_col6\" class=\"data row2 col6\" >1</td> \n",
       "        <td id=\"T_7c3092a8_b08a_11ea_8b95_000b8193c70brow2_col7\" class=\"data row2 col7\" >0</td> \n",
       "        <td id=\"T_7c3092a8_b08a_11ea_8b95_000b8193c70brow2_col8\" class=\"data row2 col8\" >2</td> \n",
       "        <td id=\"T_7c3092a8_b08a_11ea_8b95_000b8193c70brow2_col9\" class=\"data row2 col9\" >36</td> \n",
       "    </tr>    <tr> \n",
       "        <th id=\"T_7c3092a8_b08a_11ea_8b95_000b8193c70blevel0_row3\" class=\"row_heading level0 row3\" >4</th> \n",
       "        <td id=\"T_7c3092a8_b08a_11ea_8b95_000b8193c70brow3_col0\" class=\"data row3 col0\" >0</td> \n",
       "        <td id=\"T_7c3092a8_b08a_11ea_8b95_000b8193c70brow3_col1\" class=\"data row3 col1\" >0</td> \n",
       "        <td id=\"T_7c3092a8_b08a_11ea_8b95_000b8193c70brow3_col2\" class=\"data row3 col2\" >0</td> \n",
       "        <td id=\"T_7c3092a8_b08a_11ea_8b95_000b8193c70brow3_col3\" class=\"data row3 col3\" >0</td> \n",
       "        <td id=\"T_7c3092a8_b08a_11ea_8b95_000b8193c70brow3_col4\" class=\"data row3 col4\" >4</td> \n",
       "        <td id=\"T_7c3092a8_b08a_11ea_8b95_000b8193c70brow3_col5\" class=\"data row3 col5\" >1</td> \n",
       "        <td id=\"T_7c3092a8_b08a_11ea_8b95_000b8193c70brow3_col6\" class=\"data row3 col6\" >3</td> \n",
       "        <td id=\"T_7c3092a8_b08a_11ea_8b95_000b8193c70brow3_col7\" class=\"data row3 col7\" >6</td> \n",
       "        <td id=\"T_7c3092a8_b08a_11ea_8b95_000b8193c70brow3_col8\" class=\"data row3 col8\" >3</td> \n",
       "        <td id=\"T_7c3092a8_b08a_11ea_8b95_000b8193c70brow3_col9\" class=\"data row3 col9\" >17</td> \n",
       "    </tr>    <tr> \n",
       "        <th id=\"T_7c3092a8_b08a_11ea_8b95_000b8193c70blevel0_row4\" class=\"row_heading level0 row4\" >All</th> \n",
       "        <td id=\"T_7c3092a8_b08a_11ea_8b95_000b8193c70brow4_col0\" class=\"data row4 col0\" >1</td> \n",
       "        <td id=\"T_7c3092a8_b08a_11ea_8b95_000b8193c70brow4_col1\" class=\"data row4 col1\" >2</td> \n",
       "        <td id=\"T_7c3092a8_b08a_11ea_8b95_000b8193c70brow4_col2\" class=\"data row4 col2\" >4</td> \n",
       "        <td id=\"T_7c3092a8_b08a_11ea_8b95_000b8193c70brow4_col3\" class=\"data row4 col3\" >13</td> \n",
       "        <td id=\"T_7c3092a8_b08a_11ea_8b95_000b8193c70brow4_col4\" class=\"data row4 col4\" >28</td> \n",
       "        <td id=\"T_7c3092a8_b08a_11ea_8b95_000b8193c70brow4_col5\" class=\"data row4 col5\" >27</td> \n",
       "        <td id=\"T_7c3092a8_b08a_11ea_8b95_000b8193c70brow4_col6\" class=\"data row4 col6\" >10</td> \n",
       "        <td id=\"T_7c3092a8_b08a_11ea_8b95_000b8193c70brow4_col7\" class=\"data row4 col7\" >8</td> \n",
       "        <td id=\"T_7c3092a8_b08a_11ea_8b95_000b8193c70brow4_col8\" class=\"data row4 col8\" >6</td> \n",
       "        <td id=\"T_7c3092a8_b08a_11ea_8b95_000b8193c70brow4_col9\" class=\"data row4 col9\" >99</td> \n",
       "    </tr></tbody> \n",
       "</table> "
      ],
      "text/plain": [
       "<pandas.io.formats.style.Styler at 0x29819b57470>"
      ]
     },
     "execution_count": 45,
     "metadata": {},
     "output_type": "execute_result"
    }
   ],
   "source": [
    "pd.crosstab([data.region],[data.graduates_band],margins=True).style.background_gradient(cmap='summer_r')"
   ]
  },
  {
   "cell_type": "markdown",
   "metadata": {
    "colab_type": "text",
    "id": "Lo6H3tZdS_Sb"
   },
   "source": [
    "Again an interesting thing to note here is, **Region 4 has the most high % of graduates**. This made us think, more graduates means more income in region, and hence higher crime rate, **hold it just there**"
   ]
  },
  {
   "cell_type": "code",
   "execution_count": 46,
   "metadata": {
    "colab": {
     "base_uri": "https://localhost:8080/",
     "height": 328
    },
    "colab_type": "code",
    "executionInfo": {
     "elapsed": 5111,
     "status": "ok",
     "timestamp": 1592315406174,
     "user": {
      "displayName": "nishanth nagaraj",
      "photoUrl": "",
      "userId": "10770169860028008538"
     },
     "user_tz": -480
    },
    "id": "seeUeIgoS_Sb",
    "outputId": "0094708a-4397-4fed-d4ff-9df4cc11325e"
   },
   "outputs": [
    {
     "data": {
      "text/plain": [
       "Text(0.5, 0.98, 'Region vs Income Median')"
      ]
     },
     "execution_count": 46,
     "metadata": {},
     "output_type": "execute_result"
    },
    {
     "data": {
      "image/png": "[encoded data removed]",
      "text/plain": [
       "<Figure size 432x288 with 1 Axes>"
      ]
     },
     "metadata": {},
     "output_type": "display_data"
    }
   ],
   "source": [
    "data.groupby('region')['income'].median().plot.bar()\n",
    "plt.ylabel('Income Median')\n",
    "plt.suptitle('Region vs Income Median')"
   ]
  },
  {
   "cell_type": "markdown",
   "metadata": {
    "colab_type": "text",
    "id": "fdwn11n5S_Se"
   },
   "source": [
    "**Region 4 which has highest graduate percentage and crime rate has the lowest median income**. Which does not seem to fit any real life rationale. So the only conclusion we could arrive regarding this data is it was synthetically created and hence this irrationalism."
   ]
  },
  {
   "cell_type": "markdown",
   "metadata": {
    "colab_type": "text",
    "id": "0A6IqO4hS_Sf"
   },
   "source": [
    "We noticed a negative correlation between crime_rate and percent_senior. So lets see with little more detail how they stack up"
   ]
  },
  {
   "cell_type": "code",
   "execution_count": 47,
   "metadata": {
    "colab": {},
    "colab_type": "code",
    "id": "Ezx6FKrDS_Sf"
   },
   "outputs": [],
   "source": [
    "binConverter(['percent_city'],9)\n",
    "binConverter(['percent_senior'],6)"
   ]
  },
  {
   "cell_type": "code",
   "execution_count": 48,
   "metadata": {
    "colab": {
     "base_uri": "https://localhost:8080/",
     "height": 369
    },
    "colab_type": "code",
    "executionInfo": {
     "elapsed": 5108,
     "status": "ok",
     "timestamp": 1592315406178,
     "user": {
      "displayName": "nishanth nagaraj",
      "photoUrl": "",
      "userId": "10770169860028008538"
     },
     "user_tz": -480
    },
    "id": "4niQfeLES_Si",
    "outputId": "24b10424-3e4e-47fa-dc81-b41ac11a4277"
   },
   "outputs": [
    {
     "data": {
      "text/plain": [
       "Text(0.5, 1.0, '% senior citizen vs crime rate')"
      ]
     },
     "execution_count": 48,
     "metadata": {},
     "output_type": "execute_result"
    },
    {
     "data": {
      "image/png": "[encoded data removed]",
      "text/plain": [
       "<Figure size 864x360 with 2 Axes>"
      ]
     },
     "metadata": {},
     "output_type": "display_data"
    }
   ],
   "source": [
    "fig,ax=plt.subplots(1,2,figsize=(12,5))\n",
    "plt.ylabel('% crime rate')\n",
    "data.groupby('percent_city_band')['crime_rate'].median().plot.bar(ax=ax[0])\n",
    "ax[0].set_title('% cityscape vs crime rate')\n",
    "data.groupby('percent_senior_band')['crime_rate'].median().plot.bar(ax=ax[1])\n",
    "ax[1].set_title('% senior citizen vs crime rate')"
   ]
  },
  {
   "cell_type": "code",
   "execution_count": 49,
   "metadata": {
    "colab": {
     "base_uri": "https://localhost:8080/",
     "height": 190
    },
    "colab_type": "code",
    "executionInfo": {
     "elapsed": 5528,
     "status": "ok",
     "timestamp": 1592315406603,
     "user": {
      "displayName": "nishanth nagaraj",
      "photoUrl": "",
      "userId": "10770169860028008538"
     },
     "user_tz": -480
    },
    "id": "xRg--p8SS_So",
    "outputId": "74281610-9201-400f-97d3-04bd2df34964"
   },
   "outputs": [
    {
     "data": {
      "text/html": [
       "<style  type=\"text/css\" >\n",
       "    #T_91a3d2f8_b08a_11ea_ba8c_000b8193c70brow0_col0 {\n",
       "            background-color:  #ffff66;\n",
       "        }    #T_91a3d2f8_b08a_11ea_ba8c_000b8193c70brow0_col1 {\n",
       "            background-color:  #cfe766;\n",
       "        }    #T_91a3d2f8_b08a_11ea_ba8c_000b8193c70brow0_col2 {\n",
       "            background-color:  #ffff66;\n",
       "        }    #T_91a3d2f8_b08a_11ea_ba8c_000b8193c70brow0_col3 {\n",
       "            background-color:  #f2f866;\n",
       "        }    #T_91a3d2f8_b08a_11ea_ba8c_000b8193c70brow0_col4 {\n",
       "            background-color:  #eaf466;\n",
       "        }    #T_91a3d2f8_b08a_11ea_ba8c_000b8193c70brow0_col5 {\n",
       "            background-color:  #dfef66;\n",
       "        }    #T_91a3d2f8_b08a_11ea_ba8c_000b8193c70brow0_col6 {\n",
       "            background-color:  #bfdf66;\n",
       "        }    #T_91a3d2f8_b08a_11ea_ba8c_000b8193c70brow0_col7 {\n",
       "            background-color:  #008066;\n",
       "        }    #T_91a3d2f8_b08a_11ea_ba8c_000b8193c70brow0_col8 {\n",
       "            background-color:  #008066;\n",
       "        }    #T_91a3d2f8_b08a_11ea_ba8c_000b8193c70brow0_col9 {\n",
       "            background-color:  #eaf466;\n",
       "        }    #T_91a3d2f8_b08a_11ea_ba8c_000b8193c70brow1_col0 {\n",
       "            background-color:  #aad466;\n",
       "        }    #T_91a3d2f8_b08a_11ea_ba8c_000b8193c70brow1_col1 {\n",
       "            background-color:  #9ece66;\n",
       "        }    #T_91a3d2f8_b08a_11ea_ba8c_000b8193c70brow1_col2 {\n",
       "            background-color:  #aad466;\n",
       "        }    #T_91a3d2f8_b08a_11ea_ba8c_000b8193c70brow1_col3 {\n",
       "            background-color:  #5eae66;\n",
       "        }    #T_91a3d2f8_b08a_11ea_ba8c_000b8193c70brow1_col4 {\n",
       "            background-color:  #aad466;\n",
       "        }    #T_91a3d2f8_b08a_11ea_ba8c_000b8193c70brow1_col5 {\n",
       "            background-color:  #1f8f66;\n",
       "        }    #T_91a3d2f8_b08a_11ea_ba8c_000b8193c70brow1_col6 {\n",
       "            background-color:  #7fbf66;\n",
       "        }    #T_91a3d2f8_b08a_11ea_ba8c_000b8193c70brow1_col7 {\n",
       "            background-color:  #ffff66;\n",
       "        }    #T_91a3d2f8_b08a_11ea_ba8c_000b8193c70brow1_col8 {\n",
       "            background-color:  #ffff66;\n",
       "        }    #T_91a3d2f8_b08a_11ea_ba8c_000b8193c70brow1_col9 {\n",
       "            background-color:  #91c866;\n",
       "        }    #T_91a3d2f8_b08a_11ea_ba8c_000b8193c70brow2_col0 {\n",
       "            background-color:  #6ab466;\n",
       "        }    #T_91a3d2f8_b08a_11ea_ba8c_000b8193c70brow2_col1 {\n",
       "            background-color:  #aad466;\n",
       "        }    #T_91a3d2f8_b08a_11ea_ba8c_000b8193c70brow2_col2 {\n",
       "            background-color:  #61b066;\n",
       "        }    #T_91a3d2f8_b08a_11ea_ba8c_000b8193c70brow2_col3 {\n",
       "            background-color:  #afd766;\n",
       "        }    #T_91a3d2f8_b08a_11ea_ba8c_000b8193c70brow2_col4 {\n",
       "            background-color:  #6ab466;\n",
       "        }    #T_91a3d2f8_b08a_11ea_ba8c_000b8193c70brow2_col5 {\n",
       "            background-color:  #ffff66;\n",
       "        }    #T_91a3d2f8_b08a_11ea_ba8c_000b8193c70brow2_col6 {\n",
       "            background-color:  #bfdf66;\n",
       "        }    #T_91a3d2f8_b08a_11ea_ba8c_000b8193c70brow2_col7 {\n",
       "            background-color:  #ffff66;\n",
       "        }    #T_91a3d2f8_b08a_11ea_ba8c_000b8193c70brow2_col8 {\n",
       "            background-color:  #ffff66;\n",
       "        }    #T_91a3d2f8_b08a_11ea_ba8c_000b8193c70brow2_col9 {\n",
       "            background-color:  #99cc66;\n",
       "        }    #T_91a3d2f8_b08a_11ea_ba8c_000b8193c70brow3_col0 {\n",
       "            background-color:  #ffff66;\n",
       "        }    #T_91a3d2f8_b08a_11ea_ba8c_000b8193c70brow3_col1 {\n",
       "            background-color:  #e7f366;\n",
       "        }    #T_91a3d2f8_b08a_11ea_ba8c_000b8193c70brow3_col2 {\n",
       "            background-color:  #ffff66;\n",
       "        }    #T_91a3d2f8_b08a_11ea_ba8c_000b8193c70brow3_col3 {\n",
       "            background-color:  #ffff66;\n",
       "        }    #T_91a3d2f8_b08a_11ea_ba8c_000b8193c70brow3_col4 {\n",
       "            background-color:  #ffff66;\n",
       "        }    #T_91a3d2f8_b08a_11ea_ba8c_000b8193c70brow3_col5 {\n",
       "            background-color:  #ffff66;\n",
       "        }    #T_91a3d2f8_b08a_11ea_ba8c_000b8193c70brow3_col6 {\n",
       "            background-color:  #ffff66;\n",
       "        }    #T_91a3d2f8_b08a_11ea_ba8c_000b8193c70brow3_col7 {\n",
       "            background-color:  #ffff66;\n",
       "        }    #T_91a3d2f8_b08a_11ea_ba8c_000b8193c70brow3_col8 {\n",
       "            background-color:  #ffff66;\n",
       "        }    #T_91a3d2f8_b08a_11ea_ba8c_000b8193c70brow3_col9 {\n",
       "            background-color:  #ffff66;\n",
       "        }    #T_91a3d2f8_b08a_11ea_ba8c_000b8193c70brow4_col0 {\n",
       "            background-color:  #eaf466;\n",
       "        }    #T_91a3d2f8_b08a_11ea_ba8c_000b8193c70brow4_col1 {\n",
       "            background-color:  #ffff66;\n",
       "        }    #T_91a3d2f8_b08a_11ea_ba8c_000b8193c70brow4_col2 {\n",
       "            background-color:  #f3f966;\n",
       "        }    #T_91a3d2f8_b08a_11ea_ba8c_000b8193c70brow4_col3 {\n",
       "            background-color:  #ffff66;\n",
       "        }    #T_91a3d2f8_b08a_11ea_ba8c_000b8193c70brow4_col4 {\n",
       "            background-color:  #ffff66;\n",
       "        }    #T_91a3d2f8_b08a_11ea_ba8c_000b8193c70brow4_col5 {\n",
       "            background-color:  #ffff66;\n",
       "        }    #T_91a3d2f8_b08a_11ea_ba8c_000b8193c70brow4_col6 {\n",
       "            background-color:  #ffff66;\n",
       "        }    #T_91a3d2f8_b08a_11ea_ba8c_000b8193c70brow4_col7 {\n",
       "            background-color:  #ffff66;\n",
       "        }    #T_91a3d2f8_b08a_11ea_ba8c_000b8193c70brow4_col8 {\n",
       "            background-color:  #ffff66;\n",
       "        }    #T_91a3d2f8_b08a_11ea_ba8c_000b8193c70brow4_col9 {\n",
       "            background-color:  #ffff66;\n",
       "        }    #T_91a3d2f8_b08a_11ea_ba8c_000b8193c70brow5_col0 {\n",
       "            background-color:  #008066;\n",
       "        }    #T_91a3d2f8_b08a_11ea_ba8c_000b8193c70brow5_col1 {\n",
       "            background-color:  #008066;\n",
       "        }    #T_91a3d2f8_b08a_11ea_ba8c_000b8193c70brow5_col2 {\n",
       "            background-color:  #008066;\n",
       "        }    #T_91a3d2f8_b08a_11ea_ba8c_000b8193c70brow5_col3 {\n",
       "            background-color:  #008066;\n",
       "        }    #T_91a3d2f8_b08a_11ea_ba8c_000b8193c70brow5_col4 {\n",
       "            background-color:  #008066;\n",
       "        }    #T_91a3d2f8_b08a_11ea_ba8c_000b8193c70brow5_col5 {\n",
       "            background-color:  #008066;\n",
       "        }    #T_91a3d2f8_b08a_11ea_ba8c_000b8193c70brow5_col6 {\n",
       "            background-color:  #008066;\n",
       "        }    #T_91a3d2f8_b08a_11ea_ba8c_000b8193c70brow5_col7 {\n",
       "            background-color:  #008066;\n",
       "        }    #T_91a3d2f8_b08a_11ea_ba8c_000b8193c70brow5_col8 {\n",
       "            background-color:  #008066;\n",
       "        }    #T_91a3d2f8_b08a_11ea_ba8c_000b8193c70brow5_col9 {\n",
       "            background-color:  #008066;\n",
       "        }</style>  \n",
       "<table id=\"T_91a3d2f8_b08a_11ea_ba8c_000b8193c70b\" > \n",
       "<thead>    <tr> \n",
       "        <th class=\"index_name level0\" >percent_city_band</th> \n",
       "        <th class=\"col_heading level0 col0\" >0</th> \n",
       "        <th class=\"col_heading level0 col1\" >1</th> \n",
       "        <th class=\"col_heading level0 col2\" >2</th> \n",
       "        <th class=\"col_heading level0 col3\" >3</th> \n",
       "        <th class=\"col_heading level0 col4\" >4</th> \n",
       "        <th class=\"col_heading level0 col5\" >5</th> \n",
       "        <th class=\"col_heading level0 col6\" >6</th> \n",
       "        <th class=\"col_heading level0 col7\" >8</th> \n",
       "        <th class=\"col_heading level0 col8\" >9</th> \n",
       "        <th class=\"col_heading level0 col9\" >All</th> \n",
       "    </tr>    <tr> \n",
       "        <th class=\"index_name level0\" >percent_senior_band</th> \n",
       "        <th class=\"blank\" ></th> \n",
       "        <th class=\"blank\" ></th> \n",
       "        <th class=\"blank\" ></th> \n",
       "        <th class=\"blank\" ></th> \n",
       "        <th class=\"blank\" ></th> \n",
       "        <th class=\"blank\" ></th> \n",
       "        <th class=\"blank\" ></th> \n",
       "        <th class=\"blank\" ></th> \n",
       "        <th class=\"blank\" ></th> \n",
       "        <th class=\"blank\" ></th> \n",
       "    </tr></thead> \n",
       "<tbody>    <tr> \n",
       "        <th id=\"T_91a3d2f8_b08a_11ea_ba8c_000b8193c70blevel0_row0\" class=\"row_heading level0 row0\" >0</th> \n",
       "        <td id=\"T_91a3d2f8_b08a_11ea_ba8c_000b8193c70brow0_col0\" class=\"data row0 col0\" >0</td> \n",
       "        <td id=\"T_91a3d2f8_b08a_11ea_ba8c_000b8193c70brow0_col1\" class=\"data row0 col1\" >4</td> \n",
       "        <td id=\"T_91a3d2f8_b08a_11ea_ba8c_000b8193c70brow0_col2\" class=\"data row0 col2\" >0</td> \n",
       "        <td id=\"T_91a3d2f8_b08a_11ea_ba8c_000b8193c70brow0_col3\" class=\"data row0 col3\" >1</td> \n",
       "        <td id=\"T_91a3d2f8_b08a_11ea_ba8c_000b8193c70brow0_col4\" class=\"data row0 col4\" >1</td> \n",
       "        <td id=\"T_91a3d2f8_b08a_11ea_ba8c_000b8193c70brow0_col5\" class=\"data row0 col5\" >1</td> \n",
       "        <td id=\"T_91a3d2f8_b08a_11ea_ba8c_000b8193c70brow0_col6\" class=\"data row0 col6\" >1</td> \n",
       "        <td id=\"T_91a3d2f8_b08a_11ea_ba8c_000b8193c70brow0_col7\" class=\"data row0 col7\" >1</td> \n",
       "        <td id=\"T_91a3d2f8_b08a_11ea_ba8c_000b8193c70brow0_col8\" class=\"data row0 col8\" >1</td> \n",
       "        <td id=\"T_91a3d2f8_b08a_11ea_ba8c_000b8193c70brow0_col9\" class=\"data row0 col9\" >10</td> \n",
       "    </tr>    <tr> \n",
       "        <th id=\"T_91a3d2f8_b08a_11ea_ba8c_000b8193c70blevel0_row1\" class=\"row_heading level0 row1\" >1</th> \n",
       "        <td id=\"T_91a3d2f8_b08a_11ea_ba8c_000b8193c70brow1_col0\" class=\"data row1 col0\" >4</td> \n",
       "        <td id=\"T_91a3d2f8_b08a_11ea_ba8c_000b8193c70brow1_col1\" class=\"data row1 col1\" >8</td> \n",
       "        <td id=\"T_91a3d2f8_b08a_11ea_ba8c_000b8193c70brow1_col2\" class=\"data row1 col2\" >7</td> \n",
       "        <td id=\"T_91a3d2f8_b08a_11ea_ba8c_000b8193c70brow1_col3\" class=\"data row1 col3\" >12</td> \n",
       "        <td id=\"T_91a3d2f8_b08a_11ea_ba8c_000b8193c70brow1_col4\" class=\"data row1 col4\" >4</td> \n",
       "        <td id=\"T_91a3d2f8_b08a_11ea_ba8c_000b8193c70brow1_col5\" class=\"data row1 col5\" >7</td> \n",
       "        <td id=\"T_91a3d2f8_b08a_11ea_ba8c_000b8193c70brow1_col6\" class=\"data row1 col6\" >2</td> \n",
       "        <td id=\"T_91a3d2f8_b08a_11ea_ba8c_000b8193c70brow1_col7\" class=\"data row1 col7\" >0</td> \n",
       "        <td id=\"T_91a3d2f8_b08a_11ea_ba8c_000b8193c70brow1_col8\" class=\"data row1 col8\" >0</td> \n",
       "        <td id=\"T_91a3d2f8_b08a_11ea_ba8c_000b8193c70brow1_col9\" class=\"data row1 col9\" >44</td> \n",
       "    </tr>    <tr> \n",
       "        <th id=\"T_91a3d2f8_b08a_11ea_ba8c_000b8193c70blevel0_row2\" class=\"row_heading level0 row2\" >2</th> \n",
       "        <td id=\"T_91a3d2f8_b08a_11ea_ba8c_000b8193c70brow2_col0\" class=\"data row2 col0\" >7</td> \n",
       "        <td id=\"T_91a3d2f8_b08a_11ea_ba8c_000b8193c70brow2_col1\" class=\"data row2 col1\" >7</td> \n",
       "        <td id=\"T_91a3d2f8_b08a_11ea_ba8c_000b8193c70brow2_col2\" class=\"data row2 col2\" >13</td> \n",
       "        <td id=\"T_91a3d2f8_b08a_11ea_ba8c_000b8193c70brow2_col3\" class=\"data row2 col3\" >6</td> \n",
       "        <td id=\"T_91a3d2f8_b08a_11ea_ba8c_000b8193c70brow2_col4\" class=\"data row2 col4\" >7</td> \n",
       "        <td id=\"T_91a3d2f8_b08a_11ea_ba8c_000b8193c70brow2_col5\" class=\"data row2 col5\" >0</td> \n",
       "        <td id=\"T_91a3d2f8_b08a_11ea_ba8c_000b8193c70brow2_col6\" class=\"data row2 col6\" >1</td> \n",
       "        <td id=\"T_91a3d2f8_b08a_11ea_ba8c_000b8193c70brow2_col7\" class=\"data row2 col7\" >0</td> \n",
       "        <td id=\"T_91a3d2f8_b08a_11ea_ba8c_000b8193c70brow2_col8\" class=\"data row2 col8\" >0</td> \n",
       "        <td id=\"T_91a3d2f8_b08a_11ea_ba8c_000b8193c70brow2_col9\" class=\"data row2 col9\" >41</td> \n",
       "    </tr>    <tr> \n",
       "        <th id=\"T_91a3d2f8_b08a_11ea_ba8c_000b8193c70blevel0_row3\" class=\"row_heading level0 row3\" >3</th> \n",
       "        <td id=\"T_91a3d2f8_b08a_11ea_ba8c_000b8193c70brow3_col0\" class=\"data row3 col0\" >0</td> \n",
       "        <td id=\"T_91a3d2f8_b08a_11ea_ba8c_000b8193c70brow3_col1\" class=\"data row3 col1\" >2</td> \n",
       "        <td id=\"T_91a3d2f8_b08a_11ea_ba8c_000b8193c70brow3_col2\" class=\"data row3 col2\" >0</td> \n",
       "        <td id=\"T_91a3d2f8_b08a_11ea_ba8c_000b8193c70brow3_col3\" class=\"data row3 col3\" >0</td> \n",
       "        <td id=\"T_91a3d2f8_b08a_11ea_ba8c_000b8193c70brow3_col4\" class=\"data row3 col4\" >0</td> \n",
       "        <td id=\"T_91a3d2f8_b08a_11ea_ba8c_000b8193c70brow3_col5\" class=\"data row3 col5\" >0</td> \n",
       "        <td id=\"T_91a3d2f8_b08a_11ea_ba8c_000b8193c70brow3_col6\" class=\"data row3 col6\" >0</td> \n",
       "        <td id=\"T_91a3d2f8_b08a_11ea_ba8c_000b8193c70brow3_col7\" class=\"data row3 col7\" >0</td> \n",
       "        <td id=\"T_91a3d2f8_b08a_11ea_ba8c_000b8193c70brow3_col8\" class=\"data row3 col8\" >0</td> \n",
       "        <td id=\"T_91a3d2f8_b08a_11ea_ba8c_000b8193c70brow3_col9\" class=\"data row3 col9\" >2</td> \n",
       "    </tr>    <tr> \n",
       "        <th id=\"T_91a3d2f8_b08a_11ea_ba8c_000b8193c70blevel0_row4\" class=\"row_heading level0 row4\" >5</th> \n",
       "        <td id=\"T_91a3d2f8_b08a_11ea_ba8c_000b8193c70brow4_col0\" class=\"data row4 col0\" >1</td> \n",
       "        <td id=\"T_91a3d2f8_b08a_11ea_ba8c_000b8193c70brow4_col1\" class=\"data row4 col1\" >0</td> \n",
       "        <td id=\"T_91a3d2f8_b08a_11ea_ba8c_000b8193c70brow4_col2\" class=\"data row4 col2\" >1</td> \n",
       "        <td id=\"T_91a3d2f8_b08a_11ea_ba8c_000b8193c70brow4_col3\" class=\"data row4 col3\" >0</td> \n",
       "        <td id=\"T_91a3d2f8_b08a_11ea_ba8c_000b8193c70brow4_col4\" class=\"data row4 col4\" >0</td> \n",
       "        <td id=\"T_91a3d2f8_b08a_11ea_ba8c_000b8193c70brow4_col5\" class=\"data row4 col5\" >0</td> \n",
       "        <td id=\"T_91a3d2f8_b08a_11ea_ba8c_000b8193c70brow4_col6\" class=\"data row4 col6\" >0</td> \n",
       "        <td id=\"T_91a3d2f8_b08a_11ea_ba8c_000b8193c70brow4_col7\" class=\"data row4 col7\" >0</td> \n",
       "        <td id=\"T_91a3d2f8_b08a_11ea_ba8c_000b8193c70brow4_col8\" class=\"data row4 col8\" >0</td> \n",
       "        <td id=\"T_91a3d2f8_b08a_11ea_ba8c_000b8193c70brow4_col9\" class=\"data row4 col9\" >2</td> \n",
       "    </tr>    <tr> \n",
       "        <th id=\"T_91a3d2f8_b08a_11ea_ba8c_000b8193c70blevel0_row5\" class=\"row_heading level0 row5\" >All</th> \n",
       "        <td id=\"T_91a3d2f8_b08a_11ea_ba8c_000b8193c70brow5_col0\" class=\"data row5 col0\" >12</td> \n",
       "        <td id=\"T_91a3d2f8_b08a_11ea_ba8c_000b8193c70brow5_col1\" class=\"data row5 col1\" >21</td> \n",
       "        <td id=\"T_91a3d2f8_b08a_11ea_ba8c_000b8193c70brow5_col2\" class=\"data row5 col2\" >21</td> \n",
       "        <td id=\"T_91a3d2f8_b08a_11ea_ba8c_000b8193c70brow5_col3\" class=\"data row5 col3\" >19</td> \n",
       "        <td id=\"T_91a3d2f8_b08a_11ea_ba8c_000b8193c70brow5_col4\" class=\"data row5 col4\" >12</td> \n",
       "        <td id=\"T_91a3d2f8_b08a_11ea_ba8c_000b8193c70brow5_col5\" class=\"data row5 col5\" >8</td> \n",
       "        <td id=\"T_91a3d2f8_b08a_11ea_ba8c_000b8193c70brow5_col6\" class=\"data row5 col6\" >4</td> \n",
       "        <td id=\"T_91a3d2f8_b08a_11ea_ba8c_000b8193c70brow5_col7\" class=\"data row5 col7\" >1</td> \n",
       "        <td id=\"T_91a3d2f8_b08a_11ea_ba8c_000b8193c70brow5_col8\" class=\"data row5 col8\" >1</td> \n",
       "        <td id=\"T_91a3d2f8_b08a_11ea_ba8c_000b8193c70brow5_col9\" class=\"data row5 col9\" >99</td> \n",
       "    </tr></tbody> \n",
       "</table> "
      ],
      "text/plain": [
       "<pandas.io.formats.style.Styler at 0x298196c1ef0>"
      ]
     },
     "execution_count": 49,
     "metadata": {},
     "output_type": "execute_result"
    }
   ],
   "source": [
    "pd.crosstab([data.percent_senior_band],[data.percent_city_band],margins=True).style.background_gradient(cmap='summer_r')"
   ]
  },
  {
   "cell_type": "markdown",
   "metadata": {
    "colab_type": "text",
    "id": "t7LBR3J5S_Sr"
   },
   "source": [
    "It is seen from this that the **seniors preferred to stay in rural areas**. And we also notice a **increase in crime rate with more city space**. This explains the **negative corelation between percent_senior and crime_rate**"
   ]
  },
  {
   "cell_type": "markdown",
   "metadata": {
    "colab_type": "text",
    "id": "wSOgblyqS_Sr"
   },
   "source": [
    "### One Hot Encoding\n",
    "Let us ohe the **region** feature like we discussed earlier."
   ]
  },
  {
   "cell_type": "code",
   "execution_count": 50,
   "metadata": {
    "colab": {},
    "colab_type": "code",
    "id": "mPc1AvEoS_Ss"
   },
   "outputs": [],
   "source": [
    "featuresToConv = ['region']\n",
    "data=pd.get_dummies(data,columns=featuresToConv)"
   ]
  },
  {
   "cell_type": "code",
   "execution_count": 51,
   "metadata": {
    "colab": {
     "base_uri": "https://localhost:8080/",
     "height": 104
    },
    "colab_type": "code",
    "executionInfo": {
     "elapsed": 5527,
     "status": "ok",
     "timestamp": 1592315406608,
     "user": {
      "displayName": "nishanth nagaraj",
      "photoUrl": "",
      "userId": "10770169860028008538"
     },
     "user_tz": -480
    },
    "id": "NqJqbkCKS_Su",
    "outputId": "331b5588-049f-42c8-b980-b084f0196303"
   },
   "outputs": [
    {
     "data": {
      "text/plain": [
       "Index(['land_area', 'percent_city', 'percent_senior', 'physicians',\n",
       "       'hospital_beds', 'graduates', 'work_force', 'income', 'crime_rate',\n",
       "       'graduates_band', 'crime_rate_band', 'percent_city_band',\n",
       "       'percent_senior_band', 'region_1', 'region_2', 'region_3', 'region_4'],\n",
       "      dtype='object')"
      ]
     },
     "execution_count": 51,
     "metadata": {},
     "output_type": "execute_result"
    }
   ],
   "source": [
    "data.columns"
   ]
  },
  {
   "cell_type": "markdown",
   "metadata": {
    "colab_type": "text",
    "id": "FffMNZHGS_Sw"
   },
   "source": [
    "### Model Preparation"
   ]
  },
  {
   "cell_type": "code",
   "execution_count": 57,
   "metadata": {
    "colab": {
     "base_uri": "https://localhost:8080/",
     "height": 503
    },
    "colab_type": "code",
    "executionInfo": {
     "elapsed": 6771,
     "status": "ok",
     "timestamp": 1592315407858,
     "user": {
      "displayName": "nishanth nagaraj",
      "photoUrl": "",
      "userId": "10770169860028008538"
     },
     "user_tz": -480
    },
    "id": "nbdF6qGsS_Sx",
    "outputId": "066a1316-e5e3-40bc-9972-1ebe19fa5120"
   },
   "outputs": [
    {
     "data": {
      "text/plain": [
       "Text(0.5, 0.98, 'Heatmap - NonLinear')"
      ]
     },
     "execution_count": 57,
     "metadata": {},
     "output_type": "execute_result"
    },
    {
     "data": {
      "image/png": "[encoded data removed]",
      "text/plain": [
       "<Figure size 720x432 with 2 Axes>"
      ]
     },
     "metadata": {},
     "output_type": "display_data"
    }
   ],
   "source": [
    "#we can remove the features that we have already converted into a band based features\n",
    "featuresTodrop = ['percent_city','percent_senior','graduates','crime_rate_band']\n",
    "data.drop(featuresTodrop,axis=1,inplace=True)\n",
    "data.columns\n",
    "\n",
    "#let us visually view how the data now correlates amongst themselves\n",
    "fig, ax = plt.subplots(figsize=(10,6))\n",
    "sns.heatmap(data.corr(method='spearman'),annot=True,vmax=1,vmin=-1)\n",
    "plt.suptitle('Heatmap - NonLinear')"
   ]
  },
  {
   "cell_type": "code",
   "execution_count": 88,
   "metadata": {
    "colab": {},
    "colab_type": "code",
    "id": "waBfmeZpS_Sz"
   },
   "outputs": [],
   "source": [
    "#let us prepare the dataset into a form suitable for our model\n",
    "X = data.drop(['hospital_beds','percent_city_band','crime_rate'],axis=1)\n",
    "y = data['crime_rate']"
   ]
  },
  {
   "cell_type": "markdown",
   "metadata": {
    "colab_type": "text",
    "id": "99S9D-aRS_S1"
   },
   "source": [
    "### DecisionTreeRegressor"
   ]
  },
  {
   "cell_type": "code",
   "execution_count": 89,
   "metadata": {
    "colab": {},
    "colab_type": "code",
    "id": "1S9lrJezS_S1"
   },
   "outputs": [],
   "source": [
    "from sklearn.model_selection import train_test_split\n",
    "from sklearn.tree import DecisionTreeRegressor\n",
    "\n",
    "#split the training and test dataset\n",
    "X_train,X_test,y_train,y_test = train_test_split(X,y,test_size=0.3,random_state=21)\n",
    "\n",
    "#create an object for the DTR and \n",
    "treeModel = DecisionTreeRegressor(max_depth=4)\n",
    "#pass the input parameters to fit the data\n",
    "treeModel.fit(X_train,y_train)\n",
    "\n",
    "#predict the values using the model we have created\n",
    "pred_train = treeModel.predict(X_train)\n",
    "pred_test = treeModel.predict(X_test)"
   ]
  },
  {
   "cell_type": "code",
   "execution_count": 2,
   "metadata": {
    "colab": {
     "base_uri": "https://localhost:8080/",
     "height": 121
    },
    "colab_type": "code",
    "executionInfo": {
     "elapsed": 1670,
     "status": "ok",
     "timestamp": 1592315562155,
     "user": {
      "displayName": "nishanth nagaraj",
      "photoUrl": "",
      "userId": "10770169860028008538"
     },
     "user_tz": -480
    },
    "id": "7FR6MMV8S_S4",
    "outputId": "a2713eee-421e-45d9-d8cf-282389cd336a"
   },
   "outputs": [
    {
     "ename": "NameError",
     "evalue": "name 'y_test' is not defined",
     "output_type": "error",
     "traceback": [
      "\u001b[1;31m---------------------------------------------------------------------------\u001b[0m",
      "\u001b[1;31mNameError\u001b[0m                                 Traceback (most recent call last)",
      "\u001b[1;32m<ipython-input-2-d169189e9ba0>\u001b[0m in \u001b[0;36m<module>\u001b[1;34m\u001b[0m\n\u001b[0;32m      2\u001b[0m \u001b[1;31m#run the following metrics to evaluate our model's accuracy\u001b[0m\u001b[1;33m\u001b[0m\u001b[1;33m\u001b[0m\u001b[1;33m\u001b[0m\u001b[0m\n\u001b[0;32m      3\u001b[0m \u001b[1;33m\u001b[0m\u001b[0m\n\u001b[1;32m----> 4\u001b[1;33m \u001b[0mMSE\u001b[0m \u001b[1;33m=\u001b[0m \u001b[0mmetrics\u001b[0m\u001b[1;33m.\u001b[0m\u001b[0mmean_squared_error\u001b[0m\u001b[1;33m(\u001b[0m\u001b[0my_test\u001b[0m\u001b[1;33m,\u001b[0m\u001b[0mpred_test\u001b[0m\u001b[1;33m)\u001b[0m\u001b[1;33m\u001b[0m\u001b[1;33m\u001b[0m\u001b[0m\n\u001b[0m\u001b[0;32m      5\u001b[0m \u001b[0mRMSE\u001b[0m \u001b[1;33m=\u001b[0m\u001b[0mnp\u001b[0m\u001b[1;33m.\u001b[0m\u001b[0msqrt\u001b[0m\u001b[1;33m(\u001b[0m\u001b[0mmetrics\u001b[0m\u001b[1;33m.\u001b[0m\u001b[0mmean_absolute_error\u001b[0m\u001b[1;33m(\u001b[0m\u001b[0my_test\u001b[0m\u001b[1;33m,\u001b[0m \u001b[0mpred_test\u001b[0m\u001b[1;33m)\u001b[0m\u001b[1;33m)\u001b[0m\u001b[1;33m\u001b[0m\u001b[1;33m\u001b[0m\u001b[0m\n\u001b[0;32m      6\u001b[0m \u001b[0mR2\u001b[0m \u001b[1;33m=\u001b[0m \u001b[0mmetrics\u001b[0m\u001b[1;33m.\u001b[0m\u001b[0mr2_score\u001b[0m\u001b[1;33m(\u001b[0m\u001b[0my_test\u001b[0m\u001b[1;33m,\u001b[0m\u001b[0mpred_test\u001b[0m\u001b[1;33m)\u001b[0m\u001b[1;33m\u001b[0m\u001b[1;33m\u001b[0m\u001b[0m\n",
      "\u001b[1;31mNameError\u001b[0m: name 'y_test' is not defined"
     ]
    }
   ],
   "source": [
    "from sklearn import metrics\n",
    "#run the following metrics to evaluate our model's accuracy\n",
    "\n",
    "MSE = metrics.mean_squared_error(y_test,pred_test)\n",
    "RMSE =np.sqrt(metrics.mean_absolute_error(y_test, pred_test))\n",
    "R2 = metrics.r2_score(y_test,pred_test)\n",
    "res = [MSE,RMSE,R2]\n",
    "# print('MSE_train: ',metrics.mean_squared_error(y_train,pred_train))\n",
    "print('MSE_test: ',metrics.mean_squared_error(y_test,pred_test))\n",
    "# print('R2_train: ',metrics.r2_score(y_train,pred_train))\n",
    "print('R2_test: ',metrics.r2_score(y_test,pred_test))\n",
    "# print('RMSE_train: ',np.sqrt(metrics.mean_absolute_error(y_train, pred_train)))\n",
    "print('RMSE_test: ',np.sqrt(metrics.mean_absolute_error(y_test, pred_test)))\n",
    "result = pd.DataFrame(data=res,columns=['DecisionTreeRegressor'],index=['MSE','RMSE','R2'])"
   ]
  },
  {
   "cell_type": "code",
   "execution_count": 91,
   "metadata": {
    "colab": {},
    "colab_type": "code",
    "id": "Utus4E8TS_S6"
   },
   "outputs": [],
   "source": [
    "#later can use to display the decision tree\n",
    "# from sklearn.tree import export_graphviz\n",
    "# import graphviz\n",
    "\n",
    "# # generate the graph for the tree\n",
    "# dot_data= export_graphviz(treeModel, out_file='crime_rate_model.dot', \n",
    "#                           feature_names=X_test.columns,  \n",
    "#                           class_names=['Low', 'High'],\n",
    "#                           filled=True, rounded=True,  \n",
    "#                           special_characters=True)"
   ]
  },
  {
   "cell_type": "code",
   "execution_count": 1,
   "metadata": {
    "colab": {
     "base_uri": "https://localhost:8080/",
     "height": 677
    },
    "colab_type": "code",
    "executionInfo": {
     "elapsed": 1050,
     "status": "ok",
     "timestamp": 1592315569419,
     "user": {
      "displayName": "nishanth nagaraj",
      "photoUrl": "",
      "userId": "10770169860028008538"
     },
     "user_tz": -480
    },
    "id": "m7DnYgxNS_S9",
    "outputId": "7ce04bc6-80af-4e90-9fbf-6d85603be098"
   },
   "outputs": [],
   "source": [
    "# with open(\"crime_rate_model.dot\") as f:\n",
    "\n",
    "#   dot_graph = f.read()\n",
    "# graphviz.Source(dot_graph)"
   ]
  },
  {
   "cell_type": "markdown",
   "metadata": {
    "colab_type": "text",
    "id": "P8B-8bc5S_S_"
   },
   "source": [
    "### Linear Regression"
   ]
  },
  {
   "cell_type": "code",
   "execution_count": 93,
   "metadata": {
    "colab": {
     "base_uri": "https://localhost:8080/",
     "height": 121
    },
    "colab_type": "code",
    "executionInfo": {
     "elapsed": 1007,
     "status": "ok",
     "timestamp": 1592315583505,
     "user": {
      "displayName": "nishanth nagaraj",
      "photoUrl": "",
      "userId": "10770169860028008538"
     },
     "user_tz": -480
    },
    "id": "MnOpL7nfS_S_",
    "outputId": "0b7e095e-cc25-4a79-bcd6-12c870dcabdc"
   },
   "outputs": [
    {
     "name": "stdout",
     "output_type": "stream",
     "text": [
      "MSE_train:  97.44742533581578\n",
      "MSE_test:  68.75945812503129\n",
      "R2_train:  0.5590013372747595\n",
      "R2_test:  0.17127749776969858\n",
      "RMSE_train:  2.894001095659099\n",
      "RMSE_test:  2.6726752116287096\n"
     ]
    }
   ],
   "source": [
    "from sklearn.linear_model import LinearRegression\n",
    "\n",
    "linFit = LinearRegression(normalize=True)\n",
    "linFit.fit(X_train,y_train)\n",
    "pred_train_LR = linFit.predict(X_train)\n",
    "pred_test_LR = linFit.predict(X_test)\n",
    "\n",
    "MSE1 = metrics.mean_squared_error(y_test,pred_test_LR)\n",
    "RMSE1 =np.sqrt(metrics.mean_absolute_error(y_test, pred_test_LR))\n",
    "R21 = metrics.r2_score(y_test,pred_test_LR)\n",
    "res = [MSE1,RMSE1,R21]\n",
    "result['Linear regression']=[MSE1,RMSE1,R21]\n",
    "\n",
    "print('MSE_train: ',metrics.mean_squared_error(y_train,pred_train_LR))\n",
    "print('MSE_test: ',metrics.mean_squared_error(y_test,pred_test_LR))\n",
    "print('R2_train: ',metrics.r2_score(y_train,pred_train_LR))\n",
    "print('R2_test: ',metrics.r2_score(y_test,pred_test_LR))\n",
    "print('RMSE_train: ',np.sqrt(metrics.mean_absolute_error(y_train, pred_train_LR)))\n",
    "print('RMSE_test: ',np.sqrt(metrics.mean_absolute_error(y_test, pred_test_LR)))"
   ]
  },
  {
   "cell_type": "code",
   "execution_count": 94,
   "metadata": {
    "colab": {},
    "colab_type": "code",
    "id": "DdhhSOqsS_TB"
   },
   "outputs": [
    {
     "data": {
      "text/html": [
       "<div>\n",
       "<style scoped>\n",
       "    .dataframe tbody tr th:only-of-type {\n",
       "        vertical-align: middle;\n",
       "    }\n",
       "\n",
       "    .dataframe tbody tr th {\n",
       "        vertical-align: top;\n",
       "    }\n",
       "\n",
       "    .dataframe thead th {\n",
       "        text-align: right;\n",
       "    }\n",
       "</style>\n",
       "<table border=\"1\" class=\"dataframe\">\n",
       "  <thead>\n",
       "    <tr style=\"text-align: right;\">\n",
       "      <th></th>\n",
       "      <th>DecisionTreeRegressor</th>\n",
       "      <th>Linear regression</th>\n",
       "    </tr>\n",
       "  </thead>\n",
       "  <tbody>\n",
       "    <tr>\n",
       "      <th>MSE</th>\n",
       "      <td>91.189037</td>\n",
       "      <td>68.759458</td>\n",
       "    </tr>\n",
       "    <tr>\n",
       "      <th>RMSE</th>\n",
       "      <td>2.735880</td>\n",
       "      <td>2.672675</td>\n",
       "    </tr>\n",
       "    <tr>\n",
       "      <th>R2</th>\n",
       "      <td>-0.099055</td>\n",
       "      <td>0.171277</td>\n",
       "    </tr>\n",
       "  </tbody>\n",
       "</table>\n",
       "</div>"
      ],
      "text/plain": [
       "      DecisionTreeRegressor  Linear regression\n",
       "MSE               91.189037          68.759458\n",
       "RMSE               2.735880           2.672675\n",
       "R2                -0.099055           0.171277"
      ]
     },
     "execution_count": 94,
     "metadata": {},
     "output_type": "execute_result"
    }
   ],
   "source": [
    "result"
   ]
  },
  {
   "cell_type": "markdown",
   "metadata": {},
   "source": [
    "In our case without much optimization we notice Linear Regression gives us better predications than DecisionTreeRegressor. With more data we will be able to better predic the data and understand the dynamics much more."
   ]
  }
 ],
 "metadata": {
  "colab": {
   "collapsed_sections": [],
   "name": "Crime_Rate_Classifier.ipynb",
   "provenance": []
  },
  "kernelspec": {
   "display_name": "Python 3",
   "language": "python",
   "name": "python3"
  },
  "language_info": {
   "codemirror_mode": {
    "name": "ipython",
    "version": 3
   },
   "file_extension": ".py",
   "mimetype": "text/x-python",
   "name": "python",
   "nbconvert_exporter": "python",
   "pygments_lexer": "ipython3",
   "version": "3.7.1"
  }
 },
 "nbformat": 4,
 "nbformat_minor": 1
}
